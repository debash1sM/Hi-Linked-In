{
  "nbformat": 4,
  "nbformat_minor": 0,
  "metadata": {
    "colab": {
      "provenance": []
    },
    "kernelspec": {
      "name": "python3",
      "display_name": "Python 3"
    },
    "language_info": {
      "name": "python"
    }
  },
  "cells": [
    {
      "cell_type": "markdown",
      "source": [
        "# **Lists(2) :**\n",
        "\n",
        "---\n",
        "\n"
      ],
      "metadata": {
        "id": "v2ioANY-QTxh"
      }
    },
    {
      "cell_type": "markdown",
      "source": [
        "* # Copy:\n",
        "Creating copies of an existing list is a common need in Python code. Having a copy ensures that when you change a given list, that change doesn’t affect the original data or the data in other copies."
      ],
      "metadata": {
        "id": "VYu5m2j_Qc25"
      }
    },
    {
      "cell_type": "markdown",
      "source": [
        "* **Copying Immutable Objects:** Immutable objects like strings and tuples are automatically \"copied\" when assigned or passed to functions. Since they cannot be modified, there's no need for separate copying mechanisms."
      ],
      "metadata": {
        "id": "o9ILUwxuRzjG"
      }
    },
    {
      "cell_type": "code",
      "source": [
        "# For immutable\n",
        "original_string = \"Hello\"\n",
        "copied_string = original_string\n",
        "copied_string += \" World\"\n",
        "print(original_string)\n",
        "print(copied_string)\n",
        "\n",
        "\n",
        "#mutable\n",
        "l1= [1,2,3,4]\n",
        "l2 = l1\n",
        "\n",
        "l2[1] = 50000\n",
        "print(l1)\n",
        "print(l2)"
      ],
      "metadata": {
        "colab": {
          "base_uri": "https://localhost:8080/"
        },
        "id": "atsmSO60SLng",
        "outputId": "40296440-66ef-40ee-d93b-fc64ffbf4e08"
      },
      "execution_count": 1,
      "outputs": [
        {
          "output_type": "stream",
          "name": "stdout",
          "text": [
            "Hello\n",
            "Hello World\n",
            "[1, 50000, 3, 4]\n",
            "[1, 50000, 3, 4]\n"
          ]
        }
      ]
    },
    {
      "cell_type": "markdown",
      "source": [
        "* **shallow copy :**\n",
        "A shallow copy of an existing list is a new list containing references to the objects stored in the original list. In other words, when you create a shallow copy of a list, Python constructs a new list with a new identity. Then, it inserts references to the objects in the original list into the new list."
      ],
      "metadata": {
        "id": "lZaQboa-SxRh"
      }
    },
    {
      "cell_type": "markdown",
      "source": [
        "There are at least three different ways to create shallow copies of an existing list. You can use:\n",
        "\n",
        "1. The slicing operator, [:]\n",
        "2. The .copy() method\n",
        "3. The copy() function from the copy module"
      ],
      "metadata": {
        "id": "_oY5ZgdQS605"
      }
    },
    {
      "cell_type": "code",
      "source": [
        "# Using the Slicing Operator [:]:\n",
        "\n",
        "original_list = [1, 2, [3, 4]]\n",
        "shallow_copied_list = original_list[:]\n",
        "\n",
        "shallow_copied_list[2][0] = 5\n",
        "\n",
        "print(original_list)\n",
        "print(shallow_copied_list)\n",
        "\n",
        "# Using the .copy() Method:\n",
        "\n",
        "original_list = [1, 2, [3, 4]]\n",
        "shallow_copied_list = original_list.copy()\n",
        "\n",
        "shallow_copied_list[2][0] = 5\n",
        "\n",
        "print(original_list)\n",
        "print(shallow_copied_list)\n",
        "\n",
        "# Using the copy() Function from the copy Module:\n",
        "\n",
        "import copy\n",
        "\n",
        "original_list = [1, 2, [3, 4]]\n",
        "shallow_copied_list = copy.copy(original_list)\n",
        "\n",
        "shallow_copied_list[2][0] = 5\n",
        "\n",
        "\n",
        "print(original_list)\n",
        "print(shallow_copied_list)\n",
        "\n",
        "\n"
      ],
      "metadata": {
        "colab": {
          "base_uri": "https://localhost:8080/"
        },
        "id": "_k7RYT_5TO6E",
        "outputId": "79fca525-00c8-48c7-ea90-5bcf9978d0ae"
      },
      "execution_count": 2,
      "outputs": [
        {
          "output_type": "stream",
          "name": "stdout",
          "text": [
            "[1, 2, [5, 4]]\n",
            "[1, 2, [5, 4]]\n",
            "[1, 2, [5, 4]]\n",
            "[1, 2, [5, 4]]\n",
            "[1, 2, [5, 4]]\n",
            "[1, 2, [5, 4]]\n"
          ]
        }
      ]
    },
    {
      "cell_type": "markdown",
      "source": [
        "* **deep copy :**\n",
        "Sometimes we may need to build a complete copy of an existing list. In other words, we want a copy that creates a new list object and also creates new copies of the contained elements. In these situations, we have to construct what’s known as a deep copy.\n",
        "\n",
        "When we create a deep copy of a list, Python constructs a new list object and then inserts copies of the objects from the original list recursively."
      ],
      "metadata": {
        "id": "rE1dF3i2T1w4"
      }
    },
    {
      "cell_type": "code",
      "source": [
        "from copy import deepcopy\n",
        "\n",
        "matrix = [[1, 2, 3], [4, 5, 6], [7, 8, 9]]\n",
        "matrix_copy = deepcopy(matrix)\n",
        "\n",
        "print(id(matrix) == id(matrix_copy))\n",
        "print(id(matrix[0]) == id(matrix_copy[0]))\n",
        "print(id(matrix[1]) == id(matrix_copy[1]))\n",
        "\n",
        "\n",
        "\n",
        "matrix_copy = copy(matrix)\n",
        "matrix_copy[0][0] = 100\n",
        "matrix_copy[0][1] = 200\n",
        "matrix_copy[0][2] = 300\n",
        "print(matrix_copy)\n",
        "print(matrix)"
      ],
      "metadata": {
        "colab": {
          "base_uri": "https://localhost:8080/"
        },
        "id": "0AXRw4MSUUmr",
        "outputId": "df4aaa55-7ed2-4468-b44a-1b91f83aeaa1"
      },
      "execution_count": 5,
      "outputs": [
        {
          "output_type": "stream",
          "name": "stdout",
          "text": [
            "False\n",
            "False\n",
            "False\n",
            "[[100, 200, 300], [4, 5, 6], [7, 8, 9]]\n",
            "[[100, 200, 300], [4, 5, 6], [7, 8, 9]]\n"
          ]
        }
      ]
    },
    {
      "cell_type": "markdown",
      "source": [
        "* # Growing and Shrinking Lists Dynamically\n",
        "  * In Python lists, mutability extends beyond item modification. As I've learned, because lists are mutable, I can change their length dynamically by adding or removing elements. This versatility makes lists variable-length containers.\n",
        "\n",
        "  * Adding and removing elements from lists are common tasks. Python provides various efficient methods to perform these actions. It's crucial to use the appropriate method for each task.\n",
        "\n",
        "  * Exploring Python's tools for dynamic list manipulation is essential. In the following sections, I'll delve into the different methods Python offers for growing and shrinking a list dynamically.\n",
        "\n",
        "\n",
        "\n",
        "\n"
      ],
      "metadata": {
        "id": "cnwO0WXmVGBW"
      }
    },
    {
      "cell_type": "markdown",
      "source": [
        "* `append()`: Adds an element to the end of the list."
      ],
      "metadata": {
        "id": "W8hwc-BoWoFJ"
      }
    },
    {
      "cell_type": "code",
      "source": [
        "my_list = [1, 2, 3]\n",
        "my_list.append(4)\n",
        "print(my_list)\n"
      ],
      "metadata": {
        "colab": {
          "base_uri": "https://localhost:8080/"
        },
        "id": "I8Z0kH7DWnWA",
        "outputId": "7cfe28e7-4f1b-46b0-da84-05f09c0499ea"
      },
      "execution_count": 6,
      "outputs": [
        {
          "output_type": "stream",
          "name": "stdout",
          "text": [
            "[1, 2, 3, 4]\n"
          ]
        }
      ]
    },
    {
      "cell_type": "markdown",
      "source": [
        "* `insert()`: Inserts an element at the specified index in the list."
      ],
      "metadata": {
        "id": "YhLeaYmLWtPG"
      }
    },
    {
      "cell_type": "code",
      "source": [
        "my_list = [1, 2, 3]\n",
        "my_list.insert(1, 5)\n",
        "print(my_list)\n"
      ],
      "metadata": {
        "colab": {
          "base_uri": "https://localhost:8080/"
        },
        "id": "jiEP97NFUWrF",
        "outputId": "ba363558-afcd-4fec-fe13-22dd45d89e52"
      },
      "execution_count": 7,
      "outputs": [
        {
          "output_type": "stream",
          "name": "stdout",
          "text": [
            "[1, 5, 2, 3]\n"
          ]
        }
      ]
    },
    {
      "cell_type": "markdown",
      "source": [
        "* `extend()`: Extends the list by appending elements from another iterable."
      ],
      "metadata": {
        "id": "jTjkUfaEW32I"
      }
    },
    {
      "cell_type": "code",
      "source": [
        "my_list = [1, 2, 3]\n",
        "other_list = [4, 5]\n",
        "my_list.extend(other_list)\n",
        "print(my_list)\n"
      ],
      "metadata": {
        "colab": {
          "base_uri": "https://localhost:8080/"
        },
        "id": "AkPNiQvmWmbo",
        "outputId": "296b38f1-1aca-416c-b17b-926f622796bf"
      },
      "execution_count": 8,
      "outputs": [
        {
          "output_type": "stream",
          "name": "stdout",
          "text": [
            "[1, 2, 3, 4, 5]\n"
          ]
        }
      ]
    },
    {
      "cell_type": "markdown",
      "source": [
        "* `remove()`: Removes the first occurrence of a specified value from the list."
      ],
      "metadata": {
        "id": "_q7vQpJmXGQo"
      }
    },
    {
      "cell_type": "code",
      "source": [
        "my_list = [1, 2, 3, 2, 4]\n",
        "my_list.remove(2)\n",
        "print(my_list)\n",
        "\n"
      ],
      "metadata": {
        "colab": {
          "base_uri": "https://localhost:8080/"
        },
        "id": "FgfaIUgzXKP4",
        "outputId": "7236393e-564c-4458-ee59-0bb5531e6c58"
      },
      "execution_count": 9,
      "outputs": [
        {
          "output_type": "stream",
          "name": "stdout",
          "text": [
            "[1, 3, 2, 4]\n"
          ]
        }
      ]
    },
    {
      "cell_type": "markdown",
      "source": [
        "* `pop()`: Removes and returns the element at the specified index (or the last element if index is not provided). This function also return the popped element."
      ],
      "metadata": {
        "id": "arVpF73tXUTT"
      }
    },
    {
      "cell_type": "code",
      "source": [
        "my_list = [1, 2, 3, 4, 5]\n",
        "element = my_list.pop(2)\n",
        "print(my_list)\n",
        "print(element)\n"
      ],
      "metadata": {
        "colab": {
          "base_uri": "https://localhost:8080/"
        },
        "id": "FY5gcEJdXcCK",
        "outputId": "c4932c7a-2d4f-46c9-bf53-4b962b7419cb"
      },
      "execution_count": 10,
      "outputs": [
        {
          "output_type": "stream",
          "name": "stdout",
          "text": [
            "[1, 2, 4, 5]\n",
            "3\n"
          ]
        }
      ]
    },
    {
      "cell_type": "markdown",
      "source": [
        "* `clear()`: Removes all elements from the list."
      ],
      "metadata": {
        "id": "QpHC8j11Xjkq"
      }
    },
    {
      "cell_type": "code",
      "source": [
        "my_list = [1, 2, 3, 4, 5]\n",
        "my_list.clear()\n",
        "print(my_list)  # Output: []\n"
      ],
      "metadata": {
        "colab": {
          "base_uri": "https://localhost:8080/"
        },
        "id": "yufaV05kXpvZ",
        "outputId": "2a188b3b-63ba-4fe2-eba2-1f6fa538f5e6"
      },
      "execution_count": 11,
      "outputs": [
        {
          "output_type": "stream",
          "name": "stdout",
          "text": [
            "[]\n"
          ]
        }
      ]
    },
    {
      "cell_type": "markdown",
      "source": [
        "* # Considering Performance While Growing Lists:\n",
        "\n",
        "  1. **Initial Allocation:** When you create a list in Python and provide initial items, Python allocates enough memory to store these items. Additionally, it allocates extra space to accommodate future items.\n",
        "\n",
        "  2. **Resizing for Growth:** When you add new items to the list using methods like `.append(), .extend(), or .insert()`, and the list needs more space than currently allocated, Python initiates a resizing process.\n",
        "\n",
        "  3. **Creating a New List:** To accommodate additional items, Python creates a new list with enough space to hold the current items and the new items. This new list is typically larger than the previous one to reduce the frequency of resizing operations in the future.\n",
        "\n",
        "  4. **Moving Items:** Python then moves the existing items from the old list to the new list. This operation involves copying each item from the old list to the corresponding position in the new list.\n",
        "\n",
        "  5. **Adding New Items:** After moving the existing items, Python adds the new item or items to the new list. The list is now resized and contains both the old and new items.\n",
        "\n",
        "  6. **Memory and CPU Overhead:** Resizing lists incurs additional memory and CPU overhead because it involves creating a new list, moving items, and deallocating the memory occupied by the old list. This process is necessary to ensure that the list can accommodate variable numbers of items efficiently.\n",
        "\n",
        "  7. **Optimizing Performance**: Python's resizing strategy aims to balance memory usage and performance. By allocating extra space initially and resizing only when necessary, Python minimizes the frequency of resizing operations while ensuring that lists can dynamically grow as needed."
      ],
      "metadata": {
        "id": "lYfnEY9qcRmA"
      }
    },
    {
      "cell_type": "code",
      "source": [
        "from sys import getsizeof\n",
        "\n",
        "\n",
        "numbers = []\n",
        "for value in range(50):\n",
        "  print(getsizeof(numbers))\n",
        "  numbers.append(value)"
      ],
      "metadata": {
        "colab": {
          "base_uri": "https://localhost:8080/"
        },
        "id": "oJ9w0uvAc5NR",
        "outputId": "1a30a5c2-d4a3-45d4-87a4-c35708df48d1"
      },
      "execution_count": 13,
      "outputs": [
        {
          "output_type": "stream",
          "name": "stdout",
          "text": [
            "56\n",
            "88\n",
            "88\n",
            "88\n",
            "88\n",
            "120\n",
            "120\n",
            "120\n",
            "120\n",
            "184\n",
            "184\n",
            "184\n",
            "184\n",
            "184\n",
            "184\n",
            "184\n",
            "184\n",
            "248\n",
            "248\n",
            "248\n",
            "248\n",
            "248\n",
            "248\n",
            "248\n",
            "248\n",
            "312\n",
            "312\n",
            "312\n",
            "312\n",
            "312\n",
            "312\n",
            "312\n",
            "312\n",
            "376\n",
            "376\n",
            "376\n",
            "376\n",
            "376\n",
            "376\n",
            "376\n",
            "376\n",
            "472\n",
            "472\n",
            "472\n",
            "472\n",
            "472\n",
            "472\n",
            "472\n",
            "472\n",
            "472\n"
          ]
        }
      ]
    },
    {
      "cell_type": "markdown",
      "source": [
        "* # Different ways to traverse in list:\n"
      ],
      "metadata": {
        "id": "4X7P3tdidfFp"
      }
    },
    {
      "cell_type": "markdown",
      "source": [
        "* **Using a for Loop:**\n",
        " You can iterate over each element of the list using a for loop."
      ],
      "metadata": {
        "id": "RoPkcWsfdrTo"
      }
    },
    {
      "cell_type": "code",
      "source": [
        "my_list = [1, 2, 3, 4, 5]\n",
        "for item in my_list:\n",
        "    print(item)\n"
      ],
      "metadata": {
        "colab": {
          "base_uri": "https://localhost:8080/"
        },
        "id": "o-Qx7XPjdxU4",
        "outputId": "b1a30a8a-2ea4-4bdb-f25d-6a5912eae84f"
      },
      "execution_count": 14,
      "outputs": [
        {
          "output_type": "stream",
          "name": "stdout",
          "text": [
            "1\n",
            "2\n",
            "3\n",
            "4\n",
            "5\n"
          ]
        }
      ]
    },
    {
      "cell_type": "markdown",
      "source": [
        "* **Using Indexes:** You can traverse the list using index values."
      ],
      "metadata": {
        "id": "SBBHTjyfdlaa"
      }
    },
    {
      "cell_type": "code",
      "source": [
        "for i in range(len(my_list)):\n",
        "    print(my_list[i])\n"
      ],
      "metadata": {
        "colab": {
          "base_uri": "https://localhost:8080/"
        },
        "id": "9BjDznszd5fH",
        "outputId": "3bc8d375-686d-4922-f40a-5f3b39a851ec"
      },
      "execution_count": 15,
      "outputs": [
        {
          "output_type": "stream",
          "name": "stdout",
          "text": [
            "1\n",
            "2\n",
            "3\n",
            "4\n",
            "5\n"
          ]
        }
      ]
    },
    {
      "cell_type": "markdown",
      "source": [
        "* **Using the `enumerate()` Function:**\n",
        "You can use the `enumerate()` function to get both the index and value of each element in the list."
      ],
      "metadata": {
        "id": "pGJcNCf1d_bO"
      }
    },
    {
      "cell_type": "code",
      "source": [
        "for index, value in enumerate(my_list):\n",
        "    print(f\"Index: {index}, Value: {value}\")\n"
      ],
      "metadata": {
        "colab": {
          "base_uri": "https://localhost:8080/"
        },
        "id": "hB4LZPW9d-4X",
        "outputId": "1911c50f-6664-47c6-f808-7e3bc7479bcf"
      },
      "execution_count": 16,
      "outputs": [
        {
          "output_type": "stream",
          "name": "stdout",
          "text": [
            "Index: 0, Value: 1\n",
            "Index: 1, Value: 2\n",
            "Index: 2, Value: 3\n",
            "Index: 3, Value: 4\n",
            "Index: 4, Value: 5\n"
          ]
        }
      ]
    },
    {
      "cell_type": "markdown",
      "source": [
        "* **Using While Loop:**\n",
        "While loops can also be used to traverse a list, although they are less commonly used compared to for loops."
      ],
      "metadata": {
        "id": "DBqrJ7DceJ2B"
      }
    },
    {
      "cell_type": "code",
      "source": [
        "i = 0\n",
        "while i < len(my_list):\n",
        "    print(my_list[i])\n",
        "    i += 1\n"
      ],
      "metadata": {
        "colab": {
          "base_uri": "https://localhost:8080/"
        },
        "id": "jm_66FKheIgp",
        "outputId": "7a16883c-a4c2-4f2b-c2da-3b0654e3dc60"
      },
      "execution_count": 17,
      "outputs": [
        {
          "output_type": "stream",
          "name": "stdout",
          "text": [
            "1\n",
            "2\n",
            "3\n",
            "4\n",
            "5\n"
          ]
        }
      ]
    },
    {
      "cell_type": "markdown",
      "source": [
        "* # Sorting:\n",
        "Sorting is the process of arranging items in a particular order, typically in ascending or descending order based on a certain criterion.\n",
        "  * We can do sorting in python by using` sort()` and `sorted()` pre defined method.\n",
        "\n",
        "  * This sorting is based on `TimSort - algorithm`.\n"
      ],
      "metadata": {
        "id": "0NguUt8ley55"
      }
    },
    {
      "cell_type": "markdown",
      "source": [
        "* `sort()`:\n",
        "  * **In-place Sorting:** The sort() method is used to sort the elements of a list in place. It modifies the original list and rearranges its elements in ascending order by default.\n",
        "\n",
        "  * **Mutability:** As a list method, sort() operates directly on the list object itself, altering its contents without creating a new list.\n",
        "\n",
        "  * **Syntax:** The syntax for using the sort() method is list.sort(key=None, reverse=False), where key and reverse are optional parameters.\n",
        "\n",
        "  * **Custom Sorting:** You can customize the sorting behavior by providing a key function that extracts a comparison key from each element, and you can also specify the reverse parameter to sort in descending order."
      ],
      "metadata": {
        "id": "QxxVOM0Ae3n6"
      }
    },
    {
      "cell_type": "code",
      "source": [
        "my_list = [3, 1, 4, 1, 5, 9, 2, 6, 5, 3, 5]\n",
        "ret = my_list.sort()\n",
        "print(my_list)\n",
        "\n",
        "print(ret is None)\n",
        "# sort() function does not return anything."
      ],
      "metadata": {
        "colab": {
          "base_uri": "https://localhost:8080/"
        },
        "id": "VUU2bto5gFG0",
        "outputId": "bc980bb4-c9ca-4336-ac7b-8350452be152"
      },
      "execution_count": 18,
      "outputs": [
        {
          "output_type": "stream",
          "name": "stdout",
          "text": [
            "[1, 1, 2, 3, 3, 4, 5, 5, 5, 6, 9]\n",
            "True\n"
          ]
        }
      ]
    },
    {
      "cell_type": "markdown",
      "source": [
        "* `sorted()`:\n",
        "\n",
        "  * **Non-Destructive Sorting:** Unlike sort(), the sorted() function returns a new sorted list without modifying the original list. It creates a new list containing the sorted elements of the original list.\n",
        "\n",
        "  * **Immutability:** Since sorted() returns a new list, it preserves the original list and does not alter its contents.\n",
        "\n",
        "  * **Syntax:** The syntax for using the sorted() function is sorted(iterable, key=None, reverse=False), where iterable can be any iterable object like a list, tuple, or string.\n",
        "\n",
        "  * **Custom Sorting:** Similar to sort(), you can provide a key function and set the reverse parameter to customize the sorting behavior.\n",
        "\n",
        "  * **Immutable Data Types:** The sorted() function is particularly useful for sorting immutable data types like tuples and strings, where in-place sorting is not possible."
      ],
      "metadata": {
        "id": "r-aNSoBFgzIf"
      }
    },
    {
      "cell_type": "code",
      "source": [
        "my_list = [3, 1, 4, 1, 5, 9, 2, 6, 5, 3, 5]\n",
        "sorted_list = sorted(my_list)\n",
        "print(sorted_list)\n",
        "\n",
        "print(sorted_list is None)\n",
        "# sorted() function returns new sorted list."
      ],
      "metadata": {
        "colab": {
          "base_uri": "https://localhost:8080/"
        },
        "id": "DBVtluTdhHuY",
        "outputId": "db852a24-857d-4824-e509-53ea64e37b0b"
      },
      "execution_count": 20,
      "outputs": [
        {
          "output_type": "stream",
          "name": "stdout",
          "text": [
            "[1, 1, 2, 3, 3, 4, 5, 5, 5, 6, 9]\n",
            "False\n"
          ]
        }
      ]
    },
    {
      "cell_type": "markdown",
      "source": [
        "* # Membership operator ⁉\n",
        "\n",
        "  * in\n",
        "  * not in"
      ],
      "metadata": {
        "id": "RrqUxtxLitLA"
      }
    },
    {
      "cell_type": "markdown",
      "source": [
        "* `in :`\n",
        "  * Membership Test: The in operator is used to check if a value exists in a sequence (such as a list, tuple, string, or set).\n",
        "\n",
        "  * Syntax: The syntax for using the in operator is value in sequence, where value is the element being checked and sequence is the sequence being searched.\n",
        "\n",
        "  * Returns Boolean: The in operator returns True if the value is found in the sequence, and False otherwise."
      ],
      "metadata": {
        "id": "KCpq2fnZi08_"
      }
    },
    {
      "cell_type": "code",
      "source": [
        "my_list = [1, 2, 3, 4, 5]\n",
        "print(3 in my_list)\n",
        "print(6 in my_list)\n"
      ],
      "metadata": {
        "colab": {
          "base_uri": "https://localhost:8080/"
        },
        "id": "93BSTXHoi__B",
        "outputId": "b7760ad4-821b-4c4b-f583-f9c6579ba742"
      },
      "execution_count": 21,
      "outputs": [
        {
          "output_type": "stream",
          "name": "stdout",
          "text": [
            "True\n",
            "False\n"
          ]
        }
      ]
    },
    {
      "cell_type": "markdown",
      "source": [
        "* Negated Membership Test (`not in`):\n",
        "  * The `not in` operator is the negation of the in operator. It checks if a value does not exist in a sequence.\n",
        "\n",
        "  * Syntax: The syntax for using the not in operator is value not in sequence, where value is the element being checked and sequence is the sequence being searched.\n",
        "\n",
        "  * Returns Boolean: Like the in operator, not in returns True if the value is not found in the sequence, and False otherwise."
      ],
      "metadata": {
        "id": "KOez7iZxjDZc"
      }
    },
    {
      "cell_type": "code",
      "source": [
        "my_list = [1, 2, 3, 4, 5]\n",
        "print(3 not in my_list)\n",
        "print(6 not in my_list)\n"
      ],
      "metadata": {
        "colab": {
          "base_uri": "https://localhost:8080/"
        },
        "id": "NToXN7pojX4_",
        "outputId": "a1a8a660-4556-499b-f87f-d8d89a7f9497"
      },
      "execution_count": 22,
      "outputs": [
        {
          "output_type": "stream",
          "name": "stdout",
          "text": [
            "False\n",
            "True\n"
          ]
        }
      ]
    },
    {
      "cell_type": "markdown",
      "source": [
        "* # Comparison Operator :"
      ],
      "metadata": {
        "id": "kODYlwr4js1V"
      }
    },
    {
      "cell_type": "markdown",
      "source": [
        "* `Equality Operator (==):`\n",
        "\n",
        "  * The equality operator (==) is used to check if two lists have the same elements in the same order.\n",
        "  * It returns True if the lists are equal, i.e., if they contain the same elements in the same order. Otherwise, it returns False."
      ],
      "metadata": {
        "id": "Ii4aAVfnjxCO"
      }
    },
    {
      "cell_type": "code",
      "source": [
        "list1 = [1, 2, 3]\n",
        "list2 = [1, 2, 3]\n",
        "print(list1 == list2)\n"
      ],
      "metadata": {
        "colab": {
          "base_uri": "https://localhost:8080/"
        },
        "id": "j5ih7E49j-6h",
        "outputId": "bf8c1999-5c88-4ec0-88c0-52a36383ad83"
      },
      "execution_count": 23,
      "outputs": [
        {
          "output_type": "stream",
          "name": "stdout",
          "text": [
            "True\n"
          ]
        }
      ]
    },
    {
      "cell_type": "markdown",
      "source": [
        "* `The inequality operator (!=)`\n",
        "  * It is used to check if two lists are not equal.\n",
        "  * It returns True if the lists are not equal, i.e., if they do not contain the same elements in the same order. Otherwise, it returns False."
      ],
      "metadata": {
        "id": "HMxoCRwTkHGZ"
      }
    },
    {
      "cell_type": "code",
      "source": [
        "list1 = [1, 2, 3]\n",
        "list2 = [3, 2, 1]\n",
        "print(list1 != list2)\n"
      ],
      "metadata": {
        "colab": {
          "base_uri": "https://localhost:8080/"
        },
        "id": "56-PLzApkrRo",
        "outputId": "33d977b9-2a7a-4195-b25d-8af94bd5866b"
      },
      "execution_count": 24,
      "outputs": [
        {
          "output_type": "stream",
          "name": "stdout",
          "text": [
            "True\n"
          ]
        }
      ]
    },
    {
      "cell_type": "markdown",
      "source": [
        "* `Other Comparison Operators (>, <, >=, <=):`\n",
        "\n",
        "  * Python compares lists lexicographically using these operators.\n",
        "  * Lists are compared element-wise, starting from the first element. If the elements at the same index in both lists are equal, Python moves on to the next elements.\n",
        "  * If one list is a prefix of the other, the longer list is considered greater."
      ],
      "metadata": {
        "id": "rqvpx_rEkyFw"
      }
    },
    {
      "cell_type": "code",
      "source": [
        "list1 = [1, 2, 3]\n",
        "list2 = [1, 2, 4]\n",
        "print(list1 < list2)\n"
      ],
      "metadata": {
        "colab": {
          "base_uri": "https://localhost:8080/"
        },
        "id": "dP1FEHZYk4n4",
        "outputId": "ab74370d-732b-42c6-a123-051874de3c40"
      },
      "execution_count": 25,
      "outputs": [
        {
          "output_type": "stream",
          "name": "stdout",
          "text": [
            "True\n"
          ]
        }
      ]
    },
    {
      "cell_type": "markdown",
      "source": [
        "* # Other Important Functions:"
      ],
      "metadata": {
        "id": "aWJATFUilSlA"
      }
    },
    {
      "cell_type": "markdown",
      "source": [
        "* `len():`\n",
        "\n",
        "  * The len() function returns the number of elements in a list.\n",
        "\n",
        "  * Syntax: len(list)"
      ],
      "metadata": {
        "id": "rd_DvBhklYCZ"
      }
    },
    {
      "cell_type": "code",
      "source": [
        "my_list = [1, 2, 3, 4, 5]\n",
        "print(len(my_list))\n"
      ],
      "metadata": {
        "colab": {
          "base_uri": "https://localhost:8080/"
        },
        "id": "s78gqRmBlWlg",
        "outputId": "be14bff0-9f76-4e1d-f640-54998a8c9f97"
      },
      "execution_count": 26,
      "outputs": [
        {
          "output_type": "stream",
          "name": "stdout",
          "text": [
            "5\n"
          ]
        }
      ]
    },
    {
      "cell_type": "markdown",
      "source": [
        "* `index():`\n",
        "\n",
        "  * The index() method returns the index of the first occurrence of a specified value in the list. Else returns exception.\n",
        "\n",
        "  * Syntax: list.index(value)"
      ],
      "metadata": {
        "id": "9_JKjLNlljOb"
      }
    },
    {
      "cell_type": "code",
      "source": [
        "my_list = [10, 20, 30, 40, 50]\n",
        "print(my_list.index(30))"
      ],
      "metadata": {
        "colab": {
          "base_uri": "https://localhost:8080/"
        },
        "id": "qZyPLUs1lucg",
        "outputId": "94897010-fe34-401f-867b-b23e30b0d0e4"
      },
      "execution_count": 28,
      "outputs": [
        {
          "output_type": "stream",
          "name": "stdout",
          "text": [
            "2\n"
          ]
        }
      ]
    },
    {
      "cell_type": "markdown",
      "source": [
        "* `count():`\n",
        "  * The count() method returns the number of occurrences of a specified value in the list.\n",
        "\n",
        "  * Syntax: list.count(value)"
      ],
      "metadata": {
        "id": "qWhqekjxlle_"
      }
    },
    {
      "cell_type": "code",
      "source": [
        "my_list = [1, 2, 2, 3, 2, 4, 2]\n",
        "print(my_list.count(2))\n"
      ],
      "metadata": {
        "colab": {
          "base_uri": "https://localhost:8080/"
        },
        "id": "zFhGEE-JmFBv",
        "outputId": "d96ed6de-8176-41a1-a54e-29b376d68a18"
      },
      "execution_count": 29,
      "outputs": [
        {
          "output_type": "stream",
          "name": "stdout",
          "text": [
            "4\n"
          ]
        }
      ]
    },
    {
      "cell_type": "markdown",
      "source": [
        "* `map():`\n",
        "\n",
        "  * The map() function applies a given function to each item of an iterable (like a list) and returns a map object (an iterator) that yields the results.\n",
        "\n",
        "  * Syntax: map(function, iterable)"
      ],
      "metadata": {
        "id": "7LyjuTPbmHU3"
      }
    },
    {
      "cell_type": "code",
      "source": [
        "my_list = [1, 2, 3, 4, 5]\n",
        "squared_list = map(lambda x: x**2, my_list)\n",
        "print(list(squared_list))\n"
      ],
      "metadata": {
        "colab": {
          "base_uri": "https://localhost:8080/"
        },
        "id": "_DgPale3mOYR",
        "outputId": "cb682fad-0174-4527-a57c-bd4ab3ea58d1"
      },
      "execution_count": 30,
      "outputs": [
        {
          "output_type": "stream",
          "name": "stdout",
          "text": [
            "[1, 4, 9, 16, 25]\n"
          ]
        }
      ]
    },
    {
      "cell_type": "markdown",
      "source": [
        "* `filter():`\n",
        "\n",
        "  * The filter() function filters elements from an iterable (like a list) based on a given function and returns an iterator containing the elements for which the function returns True.\n",
        "\n",
        "  * Syntax: filter(function, iterable)"
      ],
      "metadata": {
        "id": "lqPGOmgKmSvw"
      }
    },
    {
      "cell_type": "code",
      "source": [
        "my_list = [1, 2, 3, 4, 5, 6, 7, 8, 9, 10]\n",
        "even_numbers = filter(lambda x: x % 2 == 0, my_list)\n",
        "print(list(even_numbers))\n"
      ],
      "metadata": {
        "id": "_-oDe35_mas9",
        "outputId": "952a2f4f-b3ce-4794-a42f-534cf0e935c2",
        "colab": {
          "base_uri": "https://localhost:8080/"
        }
      },
      "execution_count": 31,
      "outputs": [
        {
          "output_type": "stream",
          "name": "stdout",
          "text": [
            "[2, 4, 6, 8, 10]\n"
          ]
        }
      ]
    }
  ]
}