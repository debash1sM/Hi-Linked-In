{
  "nbformat": 4,
  "nbformat_minor": 0,
  "metadata": {
    "colab": {
      "provenance": []
    },
    "kernelspec": {
      "name": "python3",
      "display_name": "Python 3"
    },
    "language_info": {
      "name": "python"
    }
  },
  "cells": [
    {
      "cell_type": "markdown",
      "source": [
        "# **Data Types:**\n",
        "\n",
        "\n",
        "---\n",
        "\n",
        "  \n",
        "In Python, a data type is a classification that specifies which type of value a variable can hold. Python is a **dynamically typed language**, which means that you don't need to explicitly declare the data type of a variable. The interpreter automatically determines the data type based on the value assigned to it.\n",
        "\n",
        "\n",
        "\n",
        "There are mainly 5 data types in python.\n",
        "0. **Numeric** : Numeric data types in Python are used to represent numbers.\n",
        "  * Integer(int)\n",
        "  * Float(float)\n",
        "  * Complex Nuber(complex)\n",
        "1.  **Dictionary**(key - value pair) : In Python, a dictionary is a built-in data type that represents an unordered collection of key-value pairs.\n",
        "  * Dictionary(dict)\n",
        "2.  **Sets** : In Python, a set is a built-in data type that represents an unordered collection of unique elements.\n",
        "  * Sets(set)\n",
        "  * Frozen sets(frozenset)\n",
        "3. **Boolean** : In Python, the boolean data type is a built-in data type that represents the two values: True and False.\n",
        "  * Boolean(bool)\n",
        "4.  **Iterables(Sequence type)** : In Python, sequence types are data types that represent an ordered collection of items.\n",
        "  * Lists(list)\n",
        "  * Strings (str)\n",
        "  * Tuples(tuple)\n",
        "  * Range(in-built generator :: range)\n",
        "\n",
        "Other than that there are two more types:\n",
        "\n",
        "5. **Binary Types**\t: These types are used for handling binary data, where each element is a byte, and the values can range from 0 to 255.\n",
        "  * bytes\n",
        "  * bytearray\n",
        "  * memoryview\n",
        "\n",
        "6. **None Type**\t: In Python, None is a special constant that represents the absence of a value or a null value.\n",
        "  * NoneType(None)\n",
        "\n",
        "\n",
        "\n",
        "\n",
        "\n"
      ],
      "metadata": {
        "id": "VTt1gYEbuWbY"
      }
    },
    {
      "cell_type": "code",
      "source": [
        "def show_value_and_type(x):\n",
        "    print(f\"Value: {x} [::] Type: {type(x)}\", x)\n",
        "\n",
        "# Creating a string\n",
        "x = str(\"Hello World\")      # x is now a string with the value \"Hello World\"\n",
        "show_value_and_type(x)\n",
        "\n",
        "# Creating an integer\n",
        "x = int(20)                  # x is now an integer with the value 20\n",
        "show_value_and_type(x)\n",
        "\n",
        "# Creating a float\n",
        "x = float(20.5)              # x is now a float with the value 20.5\n",
        "show_value_and_type(x)\n",
        "\n",
        "# Creating a complex number\n",
        "x = complex(1j)              # x is now a complex number with the imaginary part 1j\n",
        "show_value_and_type(x)\n",
        "\n",
        "# Creating a list\n",
        "x = list((\"apple\", \"banana\", \"cherry\"))  # x is now a list with three elements\n",
        "show_value_and_type(x)\n",
        "\n",
        "# Creating a tuple\n",
        "x = tuple((\"apple\", \"banana\", \"cherry\")) # x is now a tuple with three elements\n",
        "show_value_and_type(x)\n",
        "\n",
        "# Creating a range\n",
        "x = range(6)                 # x is now a range object representing numbers from 0 to 5\n",
        "show_value_and_type(x)\n",
        "\n",
        "# Creating a dictionary\n",
        "x = dict(name=\"John\", age=36) # x is now a dictionary with keys 'name' and 'age'\n",
        "show_value_and_type(x)\n",
        "\n",
        "# Creating a set\n",
        "x = set((\"apple\", \"banana\", \"cherry\"))    # x is now a set with three elements\n",
        "show_value_and_type(x)\n",
        "\n",
        "# Creating a frozenset\n",
        "x = frozenset((\"apple\", \"banana\", \"cherry\"))  # x is now a frozenset with three elements\n",
        "show_value_and_type(x)\n",
        "\n",
        "# Creating a boolean\n",
        "x = bool(5)                  # x is now a boolean with the value True (since 5 is considered truthy)\n",
        "show_value_and_type(x)\n",
        "\n",
        "# Creating bytes\n",
        "x = bytes(5)                 # x is now a bytes object with 5 null bytes\n",
        "show_value_and_type(x)\n",
        "\n",
        "# Creating a bytearray\n",
        "x = bytearray(5)             # x is now a bytearray object with 5 null bytes\n",
        "show_value_and_type(x)\n",
        "\n",
        "# Creating a memoryview from bytes\n",
        "x = memoryview(bytes(5))     # x is now a memoryview object based on the bytes object\n",
        "show_value_and_type(x)\n"
      ],
      "metadata": {
        "colab": {
          "base_uri": "https://localhost:8080/"
        },
        "id": "UjJYxIv001rK",
        "outputId": "06c1f19a-a655-4423-a2bd-b329de788230"
      },
      "execution_count": 3,
      "outputs": [
        {
          "output_type": "stream",
          "name": "stdout",
          "text": [
            "Value: Hello World [::] Type: <class 'str'> Hello World\n",
            "Value: 20 [::] Type: <class 'int'> 20\n",
            "Value: 20.5 [::] Type: <class 'float'> 20.5\n",
            "Value: 1j [::] Type: <class 'complex'> 1j\n",
            "Value: ['apple', 'banana', 'cherry'] [::] Type: <class 'list'> ['apple', 'banana', 'cherry']\n",
            "Value: ('apple', 'banana', 'cherry') [::] Type: <class 'tuple'> ('apple', 'banana', 'cherry')\n",
            "Value: range(0, 6) [::] Type: <class 'range'> range(0, 6)\n",
            "Value: {'name': 'John', 'age': 36} [::] Type: <class 'dict'> {'name': 'John', 'age': 36}\n",
            "Value: {'apple', 'cherry', 'banana'} [::] Type: <class 'set'> {'apple', 'cherry', 'banana'}\n",
            "Value: frozenset({'apple', 'cherry', 'banana'}) [::] Type: <class 'frozenset'> frozenset({'apple', 'cherry', 'banana'})\n",
            "Value: True [::] Type: <class 'bool'> True\n",
            "Value: b'\\x00\\x00\\x00\\x00\\x00' [::] Type: <class 'bytes'> b'\\x00\\x00\\x00\\x00\\x00'\n",
            "Value: bytearray(b'\\x00\\x00\\x00\\x00\\x00') [::] Type: <class 'bytearray'> bytearray(b'\\x00\\x00\\x00\\x00\\x00')\n",
            "Value: <memory at 0x7bde48b447c0> [::] Type: <class 'memoryview'> <memory at 0x7bde48b447c0>\n"
          ]
        }
      ]
    },
    {
      "cell_type": "code",
      "source": [],
      "metadata": {
        "id": "PUJpruH38stp"
      },
      "execution_count": 2,
      "outputs": []
    }
  ]
}