{
  "nbformat": 4,
  "nbformat_minor": 0,
  "metadata": {
    "colab": {
      "provenance": []
    },
    "kernelspec": {
      "name": "python3",
      "display_name": "Python 3"
    },
    "language_info": {
      "name": "python"
    }
  },
  "cells": [
    {
      "cell_type": "markdown",
      "source": [
        "**1️. Procedural Programming:**\n",
        " Procedural programming structures code around procedures or functions executed sequentially. In this paradigm:\n",
        "\n",
        "* Procedure: A named block of code, like functions in Python, designed to perform a specific task.\n",
        "* Top-Down Approach: Execution follows a top-down order, moving from the main program to procedures.\n",
        "* Data Sharing: Data is typically shared through parameters."
      ],
      "metadata": {
        "id": "I9ImQENfjzhR"
      }
    },
    {
      "cell_type": "code",
      "source": [
        "# Procedural programming example in Python\n",
        "\n",
        "def add_numbers(a, b):\n",
        "    return a + b\n",
        "\n",
        "def display_result(result):\n",
        "    print(\"The result is:\", result)\n",
        "\n",
        "num1 = 5\n",
        "num2 = 10\n",
        "\n",
        "sum_result = add_numbers(num1, num2)\n",
        "display_result(sum_result)\n"
      ],
      "metadata": {
        "colab": {
          "base_uri": "https://localhost:8080/"
        },
        "id": "QFgfjcd2kGW4",
        "outputId": "091b1f8f-c154-4b14-b4a6-cdc9a1b2e76a"
      },
      "execution_count": 1,
      "outputs": [
        {
          "output_type": "stream",
          "name": "stdout",
          "text": [
            "The result is: 15\n"
          ]
        }
      ]
    },
    {
      "cell_type": "markdown",
      "source": [
        "**2. Object-oriented programming (OOP)** : It is a programming paradigm that organizes software design around data, or objects, rather than functions and logic. Here are some key points about OOP:\n",
        "\n",
        "* An object is an instance of a class, which is a user-defined data type that contains data members and member functions.\n",
        "* Data members are the variables that store the state of an object, and member functions are the methods that operate on the data members.\n",
        "* OOP aims to bind together the data and the functions that manipulate the data, so that they are not accessible by other parts of the code, unless specified. This is known as encapsulation or data hiding.\n",
        "* OOP also allows classes to inherit the properties and behaviors of other classes, which enables code reuse and reduces complexity. This is known as inheritance.\n",
        "* OOP supports polymorphism, which means that different objects can respond to the same message in different ways, depending on their types. This allows for dynamic binding of methods at runtime.\n",
        "* OOP provides abstraction, which means that only the essential information about an object is exposed to the outside world, while the implementation details are hidden. This simplifies the interface and reduces the dependency between components."
      ],
      "metadata": {
        "id": "DgI_sGp4kfS4"
      }
    },
    {
      "cell_type": "code",
      "source": [
        "# Example of Object-Oriented Programming in Python\n",
        "\n",
        "class Dog:\n",
        "    def __init__(self, name):\n",
        "        self.name = name\n",
        "\n",
        "    def bark(self):\n",
        "        print(f\"{self.name} says Woof!\")\n",
        "\n",
        "my_dog = Dog(\"Buddy\")\n",
        "my_dog.bark()\n"
      ],
      "metadata": {
        "colab": {
          "base_uri": "https://localhost:8080/"
        },
        "id": "76tQQqwmkKHQ",
        "outputId": "890a3036-040e-42ac-b864-734a8a10f545"
      },
      "execution_count": 2,
      "outputs": [
        {
          "output_type": "stream",
          "name": "stdout",
          "text": [
            "Buddy says Woof!\n"
          ]
        }
      ]
    },
    {
      "cell_type": "markdown",
      "source": [
        "**3.  Functional Programming (FP):** Functional Programming (FP) is a programming paradigm that focuses on using functions to create and manipulate data, rather than using statements or commands. Some of the main characteristics of FP are:\n",
        "\n",
        "* Functions are first-class values, meaning they can be assigned to variables, passed as arguments, and returned from other functions.\n",
        "* Functions are pure, meaning they do not have any side effects, such as modifying global variables or performing input/output operations. They only depend on their input arguments and always return the same output for the same input.\n",
        "* Data is immutable, meaning it cannot be changed once it is created. Instead of modifying existing data, functions create and return new data.\n",
        "* FP supports higher-order functions, meaning functions that can take other functions as arguments or return them as results. Higher-order functions allow for abstraction and composition of functions.\n",
        "* FP supports recursion, meaning functions that can call themselves to solve smaller subproblems. Recursion is often used instead of loops in FP."
      ],
      "metadata": {
        "id": "8rfmeL3blKxO"
      }
    },
    {
      "cell_type": "code",
      "source": [
        "# Example of Functional Programming in Python\n",
        "from functools import reduce\n",
        "\n",
        "'''The reduce function is a higher-order function that takes a list of elements and a binary operation,\n",
        " and applies the operation to all the elements to produce a single value'''\n",
        "\n",
        "numbers = [1, 2, 3, 4, 5]\n",
        "\n",
        "squared_numbers = list(map(lambda x: x**2, numbers))\n",
        "even_numbers = list(filter(lambda x: x % 2 == 0, numbers))\n",
        "product = reduce(lambda x, y: x * y, numbers)\n",
        "\n",
        "print(squared_numbers)\n",
        "print(even_numbers)\n",
        "print(product)\n"
      ],
      "metadata": {
        "colab": {
          "base_uri": "https://localhost:8080/"
        },
        "id": "tH26zc81lsQs",
        "outputId": "2ca2925a-8ff7-425c-848f-85bc2d9e0e6e"
      },
      "execution_count": 4,
      "outputs": [
        {
          "output_type": "stream",
          "name": "stdout",
          "text": [
            "[1, 4, 9, 16, 25]\n",
            "[2, 4]\n",
            "120\n"
          ]
        }
      ]
    },
    {
      "cell_type": "markdown",
      "source": [
        "**4. Imperative Programming:**Imperative programming is a programming paradigm that uses statements that change a program’s state. Here are some points about imperative programming:\n",
        "\n",
        "* Imperative programming focuses on how to achieve a desired result, rather than what the result should be.\n",
        "* It uses variables, loops, conditions, and other constructs to control the flow of the program.\n",
        "* It is system-oriented and very specific, which makes the code easy to understand, but also verbose and repetitive.\n",
        "* It allows the programmer to modify the values of variables at runtime, which can introduce errors or bugs.\n",
        "* It is the oldest and most widely used programming paradigm, and many other popular languages are based on it, such as C, Java etc."
      ],
      "metadata": {
        "id": "BfdTKzlImac2"
      }
    },
    {
      "cell_type": "code",
      "source": [
        "# Example of Imperative Programming in Python\n",
        "\n",
        "numbers = [1, 2, 3, 4, 5]\n",
        "\n",
        "squared_numbers = [num**2 for num in numbers]\n",
        "even_numbers = [num for num in numbers if num % 2 == 0]\n",
        "\n",
        "print(squared_numbers)\n",
        "print(even_numbers)\n"
      ],
      "metadata": {
        "colab": {
          "base_uri": "https://localhost:8080/"
        },
        "id": "pEAiQ0OinMHA",
        "outputId": "4dc49705-104d-4ae9-9440-f5056df29178"
      },
      "execution_count": 5,
      "outputs": [
        {
          "output_type": "stream",
          "name": "stdout",
          "text": [
            "[1, 4, 9, 16, 25]\n",
            "[2, 4]\n"
          ]
        }
      ]
    }
  ]
}