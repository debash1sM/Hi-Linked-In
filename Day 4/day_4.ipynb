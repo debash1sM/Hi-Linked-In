{
  "nbformat": 4,
  "nbformat_minor": 0,
  "metadata": {
    "colab": {
      "provenance": []
    },
    "kernelspec": {
      "name": "python3",
      "display_name": "Python 3"
    },
    "language_info": {
      "name": "python"
    }
  },
  "cells": [
    {
      "cell_type": "markdown",
      "source": [
        "# **Numeric Data Types** :\n",
        "\n",
        "---\n",
        "\n",
        "> Number data types store numeric values. They are immutable data types, which means that changing the value of a number data type results in a newly allocated object.\n",
        "\n",
        "Different types of Number data types are :\n",
        "\n",
        "* **int** : An integer is a whole number with no decimal places.\n",
        "  > ex : 1,2\n",
        "* **float** : It is a numerical data type used to represent real numbers, including both rational and irrational numbers. Floats are used to store decimal numbers or numbers with a fractional component.\n",
        "  > ex : my_float = 3.14\n",
        "* **complex** : Complex numbers are a built-in data type that allows you to work with numbers in the form a + bj, where a and b are real numbers, and j is the imaginary unit (the square root of -1).\n",
        "  > ex : comp = 1 + 2j"
      ],
      "metadata": {
        "id": "7tSRZIjL17Xx"
      }
    },
    {
      "cell_type": "code",
      "source": [
        "def showType(ele) :\n",
        "  print(f\"{ele} is {type(ele)}\")\n",
        "\n",
        "\n",
        "a = 155  #int\n",
        "showType(a)\n",
        "\n",
        "b = 3.14  #float\n",
        "showType(b)\n",
        "\n",
        "c = 1+2j  #complex\n",
        "showType(c)"
      ],
      "metadata": {
        "colab": {
          "base_uri": "https://localhost:8080/"
        },
        "id": "jQBytFKX3e9G",
        "outputId": "ec1b4641-7d17-4b64-e0da-54e72f577756"
      },
      "execution_count": 4,
      "outputs": [
        {
          "output_type": "stream",
          "name": "stdout",
          "text": [
            "155 is <class 'int'>\n",
            "3.14 is <class 'float'>\n",
            "(1+2j) is <class 'complex'>\n"
          ]
        }
      ]
    },
    {
      "cell_type": "markdown",
      "source": [
        "# **int :**\n",
        "\n",
        "---\n",
        "\n",
        "* Int, or integer, is a whole number, positive or negative, without decimals, of unlimited length."
      ],
      "metadata": {
        "id": "QpZm8OZ54X-N"
      }
    },
    {
      "cell_type": "code",
      "source": [
        "a1 = 44641534864348646846813516146884684\n",
        "showType(a1)"
      ],
      "metadata": {
        "colab": {
          "base_uri": "https://localhost:8080/"
        },
        "id": "0PvhxzRO4Tsg",
        "outputId": "69050944-7131-4052-aef1-a9f80931fb5c"
      },
      "execution_count": 5,
      "outputs": [
        {
          "output_type": "stream",
          "name": "stdout",
          "text": [
            "44641534864348646846813516146884684 is <class 'int'>\n"
          ]
        }
      ]
    },
    {
      "cell_type": "markdown",
      "source": [
        "* **Representation**: User can write bigger integer using **`\"_\"`** in between for better **readability** purpose"
      ],
      "metadata": {
        "id": "ptNSX--H7NoN"
      }
    },
    {
      "cell_type": "code",
      "source": [
        "a2 = 1022220_77_666_555_444_9\n",
        "showType(a2)"
      ],
      "metadata": {
        "colab": {
          "base_uri": "https://localhost:8080/"
        },
        "id": "4-RRGkNY7FZ9",
        "outputId": "53ccf560-1604-49a5-94ff-b0155b44f6c6"
      },
      "execution_count": 8,
      "outputs": [
        {
          "output_type": "stream",
          "name": "stdout",
          "text": [
            "1022220776665554449 is <class 'int'>\n"
          ]
        }
      ]
    },
    {
      "cell_type": "markdown",
      "source": [
        "* In Python, integers can be represented in various ways. Let's explore three common ways in a more organized manner:\n",
        "  * **Decimal Integers:** Representing integers in the standard decimal (base-10) form.\n",
        "\n",
        "    ```decimal_int = 42```\n",
        "\n",
        "  * **Binary Integers:** Representing integers in binary (base-2) form using the 0b prefix.\n",
        "\n",
        "    ```binary_int = 0b10101```\n",
        "\n",
        "  * **Hexadecimal Integers:** Representing integers in hexadecimal (base-16) form using the 0x prefix.\n",
        "\n",
        "    ```hex_int = 0xA3 ```\n",
        "\n",
        " *N.B. : These representations are just different ways of expressing the same underlying integer value. Choose the representation that best fits your needs or the specific requirements of your code.*"
      ],
      "metadata": {
        "id": "gCAJ6u9I7oH1"
      }
    },
    {
      "cell_type": "code",
      "source": [
        "decimal_int = 42\n",
        "binary_int = 0b10101  # 21 in decimal\n",
        "hex_int = 0xA3  # 163 in decimal\n",
        "\n",
        "print(f\"Decimal Integer: {decimal_int}\")\n",
        "print(f\"Binary Integer: {binary_int}\")\n",
        "print(f\"Hexadecimal Integer: {hex_int}\")\n"
      ],
      "metadata": {
        "colab": {
          "base_uri": "https://localhost:8080/"
        },
        "id": "UVGblsoh9HwG",
        "outputId": "d94bf03d-7aaf-4af7-936d-38d500ae9890"
      },
      "execution_count": 9,
      "outputs": [
        {
          "output_type": "stream",
          "name": "stdout",
          "text": [
            "Decimal Integer: 42\n",
            "Binary Integer: 21\n",
            "Hexadecimal Integer: 163\n"
          ]
        }
      ]
    },
    {
      "cell_type": "markdown",
      "source": [
        "**Better representation of various way of ints :**\n",
        "\n",
        "```\n",
        "+---------------------+----------------+------+\n",
        "|   Representation    | Representation | Base |\n",
        "|        Name         |                |      |\n",
        "+---------------------+----------------+------+\n",
        "| Decimal Integers    | 42             | 10   |\n",
        "+---------------------+----------------+------+\n",
        "| Binary Integers     | 0b10101        | 2    |\n",
        "+---------------------+----------------+------+\n",
        "| Hexadecimal Integers| 0xA3           | 16   |\n",
        "+---------------------+----------------+------+\n",
        "\n",
        "```\n",
        "\n"
      ],
      "metadata": {
        "id": "G5dvfwhl9eh9"
      }
    },
    {
      "cell_type": "markdown",
      "source": [
        "* **typecasting** : To convert Numeric but different different data type to **int**, we need to use ```int()``` function.\n",
        "\n",
        "  * **Casting from Float to Int**: When casting from a float to an int, the `decimal part is truncated`. For example, int(3.75) results in 3.\n",
        "\n",
        "  * **Casting from String to Int:** When casting from a string to an int, the string should represent a valid integer. For example, int(\"123\") results in 123."
      ],
      "metadata": {
        "id": "4nCitMR8-Dtb"
      }
    },
    {
      "cell_type": "code",
      "source": [
        "str_1 = \"123\"  #string to int\n",
        "float_1 = 3.75 #float to int\n",
        "\n",
        "showType(int(str_1))\n",
        "showType(int(float_1))"
      ],
      "metadata": {
        "colab": {
          "base_uri": "https://localhost:8080/"
        },
        "id": "3gtllEzY9PXF",
        "outputId": "bd3ee644-eac1-4720-de94-0b38a586207a"
      },
      "execution_count": 12,
      "outputs": [
        {
          "output_type": "stream",
          "name": "stdout",
          "text": [
            "123 is <class 'int'>\n",
            "3 is <class 'int'>\n"
          ]
        }
      ]
    },
    {
      "cell_type": "markdown",
      "source": [
        "* **Possible Error while typecasting:** If you try to cast a string that doesn't represent a valid integer, a ValueError will be raised. For example, attempting to cast \"abc\" to an int will result in an error."
      ],
      "metadata": {
        "id": "4r_Q7ey7_FnO"
      }
    },
    {
      "cell_type": "code",
      "source": [
        "str_2 = 'abc'\n",
        "showType(int(str_2))"
      ],
      "metadata": {
        "colab": {
          "base_uri": "https://localhost:8080/",
          "height": 200
        },
        "id": "jRaijmnK-99U",
        "outputId": "18d8bc81-0ad6-4cb3-cd22-442577ee6897"
      },
      "execution_count": 14,
      "outputs": [
        {
          "output_type": "error",
          "ename": "ValueError",
          "evalue": "invalid literal for int() with base 10: 'abc'",
          "traceback": [
            "\u001b[0;31m---------------------------------------------------------------------------\u001b[0m",
            "\u001b[0;31mValueError\u001b[0m                                Traceback (most recent call last)",
            "\u001b[0;32m<ipython-input-14-8555cdfd732d>\u001b[0m in \u001b[0;36m<cell line: 2>\u001b[0;34m()\u001b[0m\n\u001b[1;32m      1\u001b[0m \u001b[0mstr_2\u001b[0m \u001b[0;34m=\u001b[0m \u001b[0;34m'abc'\u001b[0m\u001b[0;34m\u001b[0m\u001b[0;34m\u001b[0m\u001b[0m\n\u001b[0;32m----> 2\u001b[0;31m \u001b[0mshowType\u001b[0m\u001b[0;34m(\u001b[0m\u001b[0mint\u001b[0m\u001b[0;34m(\u001b[0m\u001b[0mstr_2\u001b[0m\u001b[0;34m)\u001b[0m\u001b[0;34m)\u001b[0m\u001b[0;34m\u001b[0m\u001b[0;34m\u001b[0m\u001b[0m\n\u001b[0m",
            "\u001b[0;31mValueError\u001b[0m: invalid literal for int() with base 10: 'abc'"
          ]
        }
      ]
    },
    {
      "cell_type": "markdown",
      "source": [
        "# **Float:**\n",
        "\n",
        "---\n",
        "\n",
        "Floats in Python are a data type used to represent decimal numbers or numbers with a fractional component."
      ],
      "metadata": {
        "id": "NrViC-ZuAZSn"
      }
    },
    {
      "cell_type": "code",
      "source": [
        "float_2 = 13.454\n",
        "showType(float_2)"
      ],
      "metadata": {
        "colab": {
          "base_uri": "https://localhost:8080/"
        },
        "id": "vsnOjaEsAwdd",
        "outputId": "9ab84d5a-d5cd-40e6-d6f4-0b8dec871b99"
      },
      "execution_count": 16,
      "outputs": [
        {
          "output_type": "stream",
          "name": "stdout",
          "text": [
            "13.454 is <class 'float'>\n"
          ]
        }
      ]
    },
    {
      "cell_type": "markdown",
      "source": [
        "* They can also be expressed using scientific notation, such as 1.23e-4 (which is equivalent to 0.000123)."
      ],
      "metadata": {
        "id": "msluJH8bA6Ki"
      }
    },
    {
      "cell_type": "code",
      "source": [
        "float_3 =  1.23e-4\n",
        "showType(float_3)"
      ],
      "metadata": {
        "colab": {
          "base_uri": "https://localhost:8080/"
        },
        "id": "jdUDlfX9A1PF",
        "outputId": "85148368-72ac-4407-cabf-74da9df5c9ca"
      },
      "execution_count": 17,
      "outputs": [
        {
          "output_type": "stream",
          "name": "stdout",
          "text": [
            "0.000123 is <class 'float'>\n"
          ]
        }
      ]
    },
    {
      "cell_type": "markdown",
      "source": [
        "**Usage :**\n",
        "\n",
        "* Floats are suitable for representing real numbers, including both rational and irrational numbers.\n",
        "* They are commonly used in mathematical and scientific computations, where precision is required."
      ],
      "metadata": {
        "id": "-SZnjoAwBJsl"
      }
    },
    {
      "cell_type": "markdown",
      "source": [
        "**Precision Considerations:**\n",
        "\n",
        "* Floating-point arithmetic in computers may lead to `precision issues` due to the way floating-point numbers are represented in binary. This can result in small rounding errors."
      ],
      "metadata": {
        "id": "WlGfDSz-BRE2"
      }
    },
    {
      "cell_type": "markdown",
      "source": [
        "* **typecasting to float :**\n",
        "  * same as `int()` function , just usee ```float()``` instead.\n",
        "  * If int or str does not have any floatint points it adds `.0` by default."
      ],
      "metadata": {
        "id": "mPFbK3osBd7F"
      }
    },
    {
      "cell_type": "code",
      "source": [
        "str_3 = \"30.144\"\n",
        "int_3 = 50\n",
        "\n",
        "showType(float(str_3))\n",
        "showType(float(int_3))"
      ],
      "metadata": {
        "colab": {
          "base_uri": "https://localhost:8080/"
        },
        "id": "w9dtjZDKB2zx",
        "outputId": "f222c89f-089f-45ad-c10a-6afdc017ee25"
      },
      "execution_count": 19,
      "outputs": [
        {
          "output_type": "stream",
          "name": "stdout",
          "text": [
            "30.144 is <class 'float'>\n",
            "50.0 is <class 'float'>\n"
          ]
        }
      ]
    },
    {
      "cell_type": "markdown",
      "source": [
        "# **Basic Operations & Functions:**\n",
        "\n",
        "---\n",
        "\n",
        "We can do multipe basic operations between int and float like\n"
      ],
      "metadata": {
        "id": "WDKj1sYXD8II"
      }
    },
    {
      "cell_type": "code",
      "source": [
        "# Addition (+)\n",
        "x = 10\n",
        "y = 5\n",
        "z = x + y\n",
        "print(z) # 15\n",
        "\n",
        "# Subtraction (-)\n",
        "x = 10\n",
        "y = 5\n",
        "z = x - y\n",
        "print(z) # 5\n",
        "\n",
        "# Multiplication (*)\n",
        "x = 10\n",
        "y = 5\n",
        "z = x * y\n",
        "print(z) # 50\n",
        "\n",
        "# Division (/)\n",
        "x = 10\n",
        "y = 5\n",
        "z = x / y\n",
        "print(z) # 2.0\n",
        "\n",
        "# Floor division (//)\n",
        "x = 10\n",
        "y = 3\n",
        "z = x // y\n",
        "print(z) # 3\n",
        "\n",
        "# Modulus (%)\n",
        "x = 10\n",
        "y = 3\n",
        "z = x % y\n",
        "print(z) # 1\n",
        "\n",
        "# Exponentiation (**)\n",
        "x = 10\n",
        "y = 2\n",
        "z = x ** y\n",
        "print(z) # 100\n"
      ],
      "metadata": {
        "colab": {
          "base_uri": "https://localhost:8080/"
        },
        "id": "NIhXwIvTF7sn",
        "outputId": "f7bb27e1-0d7e-48d9-e0ff-9c961de284a7"
      },
      "execution_count": 28,
      "outputs": [
        {
          "output_type": "stream",
          "name": "stdout",
          "text": [
            "15\n",
            "5\n",
            "50\n",
            "2.0\n",
            "3\n",
            "1\n",
            "100\n"
          ]
        }
      ]
    },
    {
      "cell_type": "markdown",
      "source": [
        "* We can do various operation between them too. In this case resultant varies.Here is a table"
      ],
      "metadata": {
        "id": "v6n-jIDGGCov"
      }
    },
    {
      "cell_type": "markdown",
      "source": [
        "```+----------------------+-----------------------+------------------------+\n",
        "|    Operation         |       Example         |        Result          |\n",
        "|                      |                       |                        |\n",
        "+----------------------+-----------------------+------------------------+\n",
        "| Addition             |   int + int           |       int              |\n",
        "| Addition             |   int + float         |       float            |\n",
        "+----------------------+-----------------------+------------------------+\n",
        "| Subtraction          |   int - int           |       int              |\n",
        "| Subtraction          |   int - float         |       float            |\n",
        "+----------------------+-----------------------+------------------------+\n",
        "| Multiplication       |   int * int           |       int              |\n",
        "| Multiplication       |   int * float         |       float            |\n",
        "+----------------------+-----------------------+------------------------+\n",
        "| Division             |   int / int           |       float            |\n",
        "| Division             |   int / float         |       float            |\n",
        "+----------------------+-----------------------+------------------------+\n",
        "| Floor Division       |   int // int          |       int              |\n",
        "| Floor Division       |   int // float        |       float            |\n",
        "+----------------------+-----------------------+------------------------+\n",
        "| Modulus (Remainder)  |   int % int           |       int              |\n",
        "| Modulus (Remainder)  |   int % float         |       float            |\n",
        "+----------------------+-----------------------+------------------------+\n",
        "| Exponentiation       |   int ** int          |       int or float     |\n",
        "| Exponentiation       |   int ** float        |       float            |\n",
        "+----------------------+-----------------------+------------------------+\n",
        "```"
      ],
      "metadata": {
        "id": "HB0uK2whGcC-"
      }
    },
    {
      "cell_type": "code",
      "source": [
        "# Integer and float numbers\n",
        "int_num = 5\n",
        "float_num = 2.5\n",
        "\n",
        "# Addition\n",
        "result_addition_int_int = int_num + int_num\n",
        "result_addition_int_float = int_num + float_num\n",
        "\n",
        "# Subtraction\n",
        "result_subtraction_int_int = int_num - int_num\n",
        "result_subtraction_int_float = int_num - float_num\n",
        "\n",
        "# Multiplication\n",
        "result_multiplication_int_int = int_num * int_num\n",
        "result_multiplication_int_float = int_num * float_num\n",
        "\n",
        "# Division\n",
        "result_division_int_int = int_num / int_num\n",
        "result_division_int_float = int_num / float_num\n",
        "\n",
        "# Floor Division\n",
        "result_floor_division_int_int = int_num // int_num\n",
        "result_floor_division_int_float = int_num // float_num\n",
        "\n",
        "# Modulus (Remainder)\n",
        "result_modulus_int_int = int_num % int_num\n",
        "result_modulus_int_float = int_num % float_num\n",
        "\n",
        "# Exponentiation\n",
        "result_exponentiation_int_int = int_num ** int_num\n",
        "result_exponentiation_int_float = int_num ** float_num\n",
        "\n",
        "# Printing the results\n",
        "print(\"Addition (int + int):\", result_addition_int_int)\n",
        "print(\"Addition (int + float):\", result_addition_int_float)\n",
        "\n",
        "print(\"\\nSubtraction (int - int):\", result_subtraction_int_int)\n",
        "print(\"Subtraction (int - float):\", result_subtraction_int_float)\n",
        "\n",
        "print(\"\\nMultiplication (int * int):\", result_multiplication_int_int)\n",
        "print(\"Multiplication (int * float):\", result_multiplication_int_float)\n",
        "\n",
        "print(\"\\nDivision (int / int):\", result_division_int_int)\n",
        "print(\"Division (int / float):\", result_division_int_float)\n",
        "\n",
        "print(\"\\nFloor Division (int // int):\", result_floor_division_int_int)\n",
        "print(\"Floor Division (int // float):\", result_floor_division_int_float)\n",
        "\n",
        "print(\"\\nModulus (Remainder) (int % int):\", result_modulus_int_int)\n",
        "print(\"Modulus (Remainder) (int % float):\", result_modulus_int_float)\n",
        "\n",
        "print(\"\\nExponentiation (int ** int):\", result_exponentiation_int_int)\n",
        "print(\"Exponentiation (int ** float):\", result_exponentiation_int_float)\n"
      ],
      "metadata": {
        "colab": {
          "base_uri": "https://localhost:8080/"
        },
        "id": "jI55mXO7GRDl",
        "outputId": "ccb738ea-af79-4552-c059-78962a96b41c"
      },
      "execution_count": 29,
      "outputs": [
        {
          "output_type": "stream",
          "name": "stdout",
          "text": [
            "Addition (int + int): 10\n",
            "Addition (int + float): 7.5\n",
            "\n",
            "Subtraction (int - int): 0\n",
            "Subtraction (int - float): 2.5\n",
            "\n",
            "Multiplication (int * int): 25\n",
            "Multiplication (int * float): 12.5\n",
            "\n",
            "Division (int / int): 1.0\n",
            "Division (int / float): 2.0\n",
            "\n",
            "Floor Division (int // int): 1\n",
            "Floor Division (int // float): 2.0\n",
            "\n",
            "Modulus (Remainder) (int % int): 0\n",
            "Modulus (Remainder) (int % float): 0.0\n",
            "\n",
            "Exponentiation (int ** int): 3125\n",
            "Exponentiation (int ** float): 55.90169943749474\n"
          ]
        }
      ]
    },
    {
      "cell_type": "markdown",
      "source": [
        "* **Functions :** Theere are various in built int and float functions available(like `int() or float()`) here are some :"
      ],
      "metadata": {
        "id": "R5anzuexHBRn"
      }
    },
    {
      "cell_type": "code",
      "source": [
        "# Integer Functions\n",
        "\n",
        "\n",
        "\n",
        "# Returns the absolute value of an integer\n",
        "absolute_value = abs(-5)\n",
        "print(\"Absolute value:\", absolute_value)\n",
        "\n",
        "# Returns the quotient and remainder of the division of two integers\n",
        "quotient, remainder = divmod(17, 5)\n",
        "print(\"Quotient:\", quotient)\n",
        "print(\"Remainder:\", remainder)\n",
        "\n",
        "\n",
        "# Floating-Point Functions\n",
        "\n",
        "\n",
        "# Returns the absolute value of a floating-point number\n",
        "absolute_value = abs(-3.14)\n",
        "print(\"Absolute value:\", absolute_value)\n",
        "\n",
        "# Rounds a floating-point number to a specified number of decimals\n",
        "rounded_num = round(3.14159, 2)\n",
        "print(\"Rounded number:\", rounded_num)\n",
        "\n",
        "# The math module provides additional functions for floating-point numbers\n",
        "import math\n",
        "\n",
        "# Returns the largest integer less than or equal to a given number\n",
        "floor_result = math.floor(4.8)\n",
        "print(\"Floor result:\", floor_result)\n",
        "\n",
        "# Returns the smallest integer greater than or equal to a given number\n",
        "ceil_result = math.ceil(4.1)\n",
        "print(\"Ceil result:\", ceil_result)\n"
      ],
      "metadata": {
        "colab": {
          "base_uri": "https://localhost:8080/"
        },
        "id": "AxPzAEIpHPSB",
        "outputId": "271d8edb-d8cc-4d5b-8f70-e122df5191c0"
      },
      "execution_count": 32,
      "outputs": [
        {
          "output_type": "stream",
          "name": "stdout",
          "text": [
            "Absolute value: 5\n",
            "Quotient: 3\n",
            "Remainder: 2\n",
            "Absolute value: 3.14\n",
            "Rounded number: 3.14\n",
            "Floor result: 4\n",
            "Ceil result: 5\n"
          ]
        }
      ]
    },
    {
      "cell_type": "markdown",
      "source": [
        "# **Complex Numbers :**\n",
        "\n",
        "---\n",
        "\n",
        "In Python, complex numbers are a built-in data type used to represent numbers in the form a + bj, where a and b are real numbers, and j is the imaginary unit (the square root of -1). Complex numbers are useful in various mathematical and engineering applications, especially in fields such as signal processing and control systems."
      ],
      "metadata": {
        "id": "vto9FijMCagu"
      }
    },
    {
      "cell_type": "markdown",
      "source": [
        "* User can create complex numbers in Python using the `complex()` function or by directly expressing them with real and imaginary parts:"
      ],
      "metadata": {
        "id": "gnfJ0tRGC3V3"
      }
    },
    {
      "cell_type": "code",
      "source": [
        "# Using complex() function\n",
        "z1 = complex(3, 4)  # 3 + 4j\n",
        "\n",
        "# Expressing with real and imaginary parts\n",
        "z2 = 1 + 2j\n",
        "\n",
        "showType(z1)\n",
        "showType(z2)"
      ],
      "metadata": {
        "colab": {
          "base_uri": "https://localhost:8080/"
        },
        "id": "kemyu3XaDAgg",
        "outputId": "ee7c8abb-0690-42c1-b15d-65da0244cf78"
      },
      "execution_count": 22,
      "outputs": [
        {
          "output_type": "stream",
          "name": "stdout",
          "text": [
            "(3+4j) is <class 'complex'>\n",
            "(1+2j) is <class 'complex'>\n"
          ]
        }
      ]
    },
    {
      "cell_type": "markdown",
      "source": [
        "* **Basic Operations with Complex Numbers:** Python supports various operations with complex numbers, such as addition, subtraction, multiplication, and division:"
      ],
      "metadata": {
        "id": "RZ4t4zwbDKwF"
      }
    },
    {
      "cell_type": "code",
      "source": [
        "z1 = 3 + 4j\n",
        "z2 = 1 - 2j\n",
        "\n",
        "# Addition\n",
        "result_addition = z1 + z2  # (3 + 4j) + (1 - 2j) = 4 + 2j\n",
        "\n",
        "# Subtraction\n",
        "result_subtraction = z1 - z2  # (3 + 4j) - (1 - 2j) = 2 + 6j\n",
        "\n",
        "# Multiplication\n",
        "result_multiplication = z1 * z2  # (3 + 4j) * (1 - 2j) = 11 - 2j\n",
        "\n",
        "# Division\n",
        "result_division = z1 / z2  # (3 + 4j) / (1 - 2j) = (-1 + 2j)\n",
        "\n",
        "# Printing the results\n",
        "print(\"Result of Addition:\", result_addition)\n",
        "print(\"Result of Subtraction:\", result_subtraction)\n",
        "print(\"Result of Multiplication:\", result_multiplication)\n",
        "print(\"Result of Division:\", result_division)\n"
      ],
      "metadata": {
        "colab": {
          "base_uri": "https://localhost:8080/"
        },
        "id": "O3hUvCc2DCy0",
        "outputId": "611bf8f7-6b2e-4b03-b30a-e621113133de"
      },
      "execution_count": 23,
      "outputs": [
        {
          "output_type": "stream",
          "name": "stdout",
          "text": [
            "Result of Addition: (4+2j)\n",
            "Result of Subtraction: (2+6j)\n",
            "Result of Multiplication: (11-2j)\n",
            "Result of Division: (-1+2j)\n"
          ]
        }
      ]
    },
    {
      "cell_type": "markdown",
      "source": [
        "* **Accessing Real and Imaginary Parts:**"
      ],
      "metadata": {
        "id": "PhyCi92lDk3P"
      }
    },
    {
      "cell_type": "code",
      "source": [
        "real_part = z1.real  # Returns the real part of z1 (3.0)\n",
        "imag_part = z1.imag  # Returns the imaginary part of z1 (4.0)\n",
        "\n",
        "print(\"Real Part of z1:\", real_part)\n",
        "print(\"Imaginary Part of z1:\", imag_part)"
      ],
      "metadata": {
        "colab": {
          "base_uri": "https://localhost:8080/"
        },
        "id": "k0aGB1LjDrQB",
        "outputId": "b7d79b41-753c-4591-e118-83525999ec9b"
      },
      "execution_count": 25,
      "outputs": [
        {
          "output_type": "stream",
          "name": "stdout",
          "text": [
            "Real Part of z1: 3.0\n",
            "Imaginary Part of z1: 4.0\n"
          ]
        }
      ]
    }
  ]
}