{
  "nbformat": 4,
  "nbformat_minor": 0,
  "metadata": {
    "colab": {
      "provenance": []
    },
    "kernelspec": {
      "name": "python3",
      "display_name": "Python 3"
    },
    "language_info": {
      "name": "python"
    }
  },
  "cells": [
    {
      "cell_type": "markdown",
      "source": [
        "# **Sets :**\n",
        "\n",
        "---\n",
        "\n",
        "* Sets are used to store multiple items in a single variable.\n",
        "\n",
        "* Set is one of 4 built-in data types in Python used to store collections of data, the other 3 are List, Tuple, and Dictionary, all with different qualities and usage."
      ],
      "metadata": {
        "id": "U_bsk2FvUZ_a"
      }
    },
    {
      "cell_type": "markdown",
      "source": [
        "\n",
        "\n",
        "*   **Representaion :** set are represented by curly braces :  `{}` in python.\n",
        "\n",
        "\n"
      ],
      "metadata": {
        "id": "D5m0d4swVeHC"
      }
    },
    {
      "cell_type": "code",
      "source": [
        "set1 = {1,2,3}\n",
        "type(set1)"
      ],
      "metadata": {
        "colab": {
          "base_uri": "https://localhost:8080/"
        },
        "id": "rkjK4D6xVud7",
        "outputId": "df4891af-9413-4729-c00b-1a764f75794e"
      },
      "execution_count": 1,
      "outputs": [
        {
          "output_type": "execute_result",
          "data": {
            "text/plain": [
              "set"
            ]
          },
          "metadata": {},
          "execution_count": 1
        }
      ]
    },
    {
      "cell_type": "markdown",
      "source": [
        "# **Charecterstics :**\n",
        "\n",
        "---\n",
        "\n"
      ],
      "metadata": {
        "id": "zMpBHz_6V3er"
      }
    },
    {
      "cell_type": "markdown",
      "source": [
        "* **Unordered:** Sets do not maintain any order for the elements. Unlike lists or tuples, where elements have a specific order, sets do not guarantee any particular order."
      ],
      "metadata": {
        "id": "xqqdjlmZWu_D"
      }
    },
    {
      "cell_type": "code",
      "source": [
        "my_set = {3, 1, 4, 1, 5, 9, 2}\n",
        "print(my_set)\n"
      ],
      "metadata": {
        "colab": {
          "base_uri": "https://localhost:8080/"
        },
        "id": "fan8UdmuV1Nh",
        "outputId": "18214049-3c48-4284-d4c1-d7743c47af1c"
      },
      "execution_count": 2,
      "outputs": [
        {
          "output_type": "stream",
          "name": "stdout",
          "text": [
            "{1, 2, 3, 4, 5, 9}\n"
          ]
        }
      ]
    },
    {
      "cell_type": "markdown",
      "source": [
        "* **Unique Elements:** Sets only allow unique elements. If you try to add a duplicate element to a set, it won't be added."
      ],
      "metadata": {
        "id": "avPkpNLRW21T"
      }
    },
    {
      "cell_type": "code",
      "source": [
        "unique_set = {1, 2, 3, 1, 2, 3, 4}\n",
        "print(unique_set)\n"
      ],
      "metadata": {
        "colab": {
          "base_uri": "https://localhost:8080/"
        },
        "id": "P0LSP4OCXK07",
        "outputId": "82b49ce7-d743-41bf-b48f-fb0257f91d35"
      },
      "execution_count": 3,
      "outputs": [
        {
          "output_type": "stream",
          "name": "stdout",
          "text": [
            "{1, 2, 3, 4}\n"
          ]
        }
      ]
    },
    {
      "cell_type": "markdown",
      "source": [
        "* **Mutable:** Sets are mutable, meaning you can add and remove elements after the set is created.This means that the object can be modified, and these modifications will affect the object's state without creating a new object.\n",
        "\n",
        "* But the elements contained in the set must be of an immutable type."
      ],
      "metadata": {
        "id": "MHNrSn_IXOag"
      }
    },
    {
      "cell_type": "code",
      "source": [
        "my_set = {1, 2, 3}\n",
        "my_set.add(4)\n",
        "my_set.remove(2)\n",
        "print(my_set)\n"
      ],
      "metadata": {
        "colab": {
          "base_uri": "https://localhost:8080/"
        },
        "id": "4-cef-_IXaBC",
        "outputId": "64bc347b-123d-4290-d6a9-528e4ce6bf2c"
      },
      "execution_count": 4,
      "outputs": [
        {
          "output_type": "stream",
          "name": "stdout",
          "text": [
            "{1, 3, 4}\n"
          ]
        }
      ]
    },
    {
      "cell_type": "markdown",
      "source": [
        "* **No Indexing**: Sets do not support indexing. You cannot access elements in a set by their position."
      ],
      "metadata": {
        "id": "vBGQ7GJ4XcwC"
      }
    },
    {
      "cell_type": "code",
      "source": [
        "my_set = {1, 2, 3}\n",
        "print(my_set[0])\n"
      ],
      "metadata": {
        "colab": {
          "base_uri": "https://localhost:8080/",
          "height": 200
        },
        "id": "UBgUie-uYFNy",
        "outputId": "4f1e1c7e-65b9-4150-d6c7-8cff32352e3e"
      },
      "execution_count": 5,
      "outputs": [
        {
          "output_type": "error",
          "ename": "TypeError",
          "evalue": "'set' object is not subscriptable",
          "traceback": [
            "\u001b[0;31m---------------------------------------------------------------------------\u001b[0m",
            "\u001b[0;31mTypeError\u001b[0m                                 Traceback (most recent call last)",
            "\u001b[0;32m<ipython-input-5-97fba530a6b2>\u001b[0m in \u001b[0;36m<cell line: 2>\u001b[0;34m()\u001b[0m\n\u001b[1;32m      1\u001b[0m \u001b[0mmy_set\u001b[0m \u001b[0;34m=\u001b[0m \u001b[0;34m{\u001b[0m\u001b[0;36m1\u001b[0m\u001b[0;34m,\u001b[0m \u001b[0;36m2\u001b[0m\u001b[0;34m,\u001b[0m \u001b[0;36m3\u001b[0m\u001b[0;34m}\u001b[0m\u001b[0;34m\u001b[0m\u001b[0;34m\u001b[0m\u001b[0m\n\u001b[0;32m----> 2\u001b[0;31m \u001b[0mprint\u001b[0m\u001b[0;34m(\u001b[0m\u001b[0mmy_set\u001b[0m\u001b[0;34m[\u001b[0m\u001b[0;36m0\u001b[0m\u001b[0;34m]\u001b[0m\u001b[0;34m)\u001b[0m\u001b[0;34m\u001b[0m\u001b[0;34m\u001b[0m\u001b[0m\n\u001b[0m",
            "\u001b[0;31mTypeError\u001b[0m: 'set' object is not subscriptable"
          ]
        }
      ]
    },
    {
      "cell_type": "markdown",
      "source": [
        "# **Defining a Set :**\n",
        "\n",
        "---\n",
        "\n"
      ],
      "metadata": {
        "id": "GlNTrS7OYRZS"
      }
    },
    {
      "cell_type": "markdown",
      "source": [
        "\n",
        "\n",
        "* **Using Curly Braces {}:** The most common and concise way to create a set is by enclosing elements in curly braces.\n",
        "* Note: If you want to create an empty set, you must use the set() constructor, as {} will create an empty dictionary.\n",
        "\n"
      ],
      "metadata": {
        "id": "LU5_LxgdYLcq"
      }
    },
    {
      "cell_type": "code",
      "source": [
        "my_set = {1, 2, 3, 4, 5}\n"
      ],
      "metadata": {
        "id": "yQseO4PLZmHS"
      },
      "execution_count": 6,
      "outputs": []
    },
    {
      "cell_type": "markdown",
      "source": [
        "* **Using the set() Constructor:** We can use the `set()` constructor to create a set. You can pass an iterable (e.g., a list, tuple, or string) as an argument to set()."
      ],
      "metadata": {
        "id": "tY52JEBFZn1z"
      }
    },
    {
      "cell_type": "code",
      "source": [
        "# Using a string\n",
        "string_iterable = \"hello\"\n",
        "set_from_string = set(string_iterable)\n",
        "print(set_from_string)\n",
        "\n",
        "# Using a tuple\n",
        "tuple_iterable = (1, 2, 3, 4, 5)\n",
        "set_from_tuple = set(tuple_iterable)\n",
        "print(set_from_tuple)\n",
        "\n",
        "# Using a list\n",
        "list_iterable = [1, 2, 3, 4, 5]\n",
        "set_from_list = set(list_iterable)\n",
        "print(set_from_list)\n",
        "\n",
        "\n",
        "# Using a set\n",
        "set_iterable = {1, 2, 3, 4, 5}\n",
        "nested_set_from_set = set(set_iterable)\n",
        "print(nested_set_from_set)\n",
        "\n",
        "\n",
        "# Using dictionary keys\n",
        "dict_iterable = {'a': 1, 'b': 2, 'c': 3}\n",
        "set_from_dict_keys = set(dict_iterable)\n",
        "print(set_from_dict_keys)\n",
        "\n",
        "# Using a range\n",
        "range_iterable = range(1, 6)\n",
        "set_from_range = set(range_iterable)\n",
        "print(set_from_range)\n"
      ],
      "metadata": {
        "colab": {
          "base_uri": "https://localhost:8080/"
        },
        "id": "M1PlONVXabJB",
        "outputId": "07c09de6-fc51-4ab3-b0ad-290eefde6b1d"
      },
      "execution_count": 7,
      "outputs": [
        {
          "output_type": "stream",
          "name": "stdout",
          "text": [
            "{'l', 'o', 'e', 'h'}\n",
            "{1, 2, 3, 4, 5}\n",
            "{1, 2, 3, 4, 5}\n",
            "{1, 2, 3, 4, 5}\n",
            "{'b', 'c', 'a'}\n",
            "{1, 2, 3, 4, 5}\n"
          ]
        }
      ]
    },
    {
      "cell_type": "markdown",
      "source": [
        "# **Set methods :**\n",
        "\n",
        "---\n"
      ],
      "metadata": {
        "id": "aoXccoyZa03i"
      }
    },
    {
      "cell_type": "markdown",
      "source": [
        "* `add(element)`: Adds an element to the set if it is not already present.\n",
        "\n"
      ],
      "metadata": {
        "id": "QndOYk5ogNrr"
      }
    },
    {
      "cell_type": "code",
      "source": [
        "my_set = {1, 2, 3}\n",
        "my_set.add(4)\n",
        "print(my_set)"
      ],
      "metadata": {
        "colab": {
          "base_uri": "https://localhost:8080/"
        },
        "id": "jFmI4JKCck4z",
        "outputId": "48fc07ef-d139-4ee6-9639-6bc7f9518175"
      },
      "execution_count": 8,
      "outputs": [
        {
          "output_type": "stream",
          "name": "stdout",
          "text": [
            "{1, 2, 3, 4}\n"
          ]
        }
      ]
    },
    {
      "cell_type": "markdown",
      "source": [
        "* `remove(element):` Removes the specified element from the set. Raises a KeyError if the element is not present.\n"
      ],
      "metadata": {
        "id": "uPtWJLv3gWLK"
      }
    },
    {
      "cell_type": "code",
      "source": [
        "my_set = {1, 2, 3, 4}\n",
        "my_set.remove(2)\n",
        "print(my_set)\n"
      ],
      "metadata": {
        "colab": {
          "base_uri": "https://localhost:8080/"
        },
        "id": "qmYTs7W0gjaz",
        "outputId": "6955ae9f-1438-44e8-8b57-4ef922e2a14d"
      },
      "execution_count": 9,
      "outputs": [
        {
          "output_type": "stream",
          "name": "stdout",
          "text": [
            "{1, 3, 4}\n"
          ]
        }
      ]
    },
    {
      "cell_type": "markdown",
      "source": [
        "* `discard(element):` Removes the specified element from the set if it is present. Does not raise an error if the element is not found."
      ],
      "metadata": {
        "id": "kUFj4VMAgle8"
      }
    },
    {
      "cell_type": "code",
      "source": [
        "my_set = {1, 2, 3, 4}\n",
        "my_set.discard(2)\n",
        "print(my_set)\n"
      ],
      "metadata": {
        "colab": {
          "base_uri": "https://localhost:8080/"
        },
        "id": "1Bw0NPqVgsU0",
        "outputId": "c73721ed-a521-44c9-e82e-e3570be97442"
      },
      "execution_count": 10,
      "outputs": [
        {
          "output_type": "stream",
          "name": "stdout",
          "text": [
            "{1, 3, 4}\n"
          ]
        }
      ]
    },
    {
      "cell_type": "markdown",
      "source": [
        "* `pop():` Removes and returns an arbitrary element from the set. Raises a KeyError if the set is empty."
      ],
      "metadata": {
        "id": "CnMjX6f0gw2l"
      }
    },
    {
      "cell_type": "code",
      "source": [
        "my_set = {1, 2, 3, 4}\n",
        "popped_element = my_set.pop()\n",
        "print(popped_element, my_set)\n"
      ],
      "metadata": {
        "colab": {
          "base_uri": "https://localhost:8080/"
        },
        "id": "0eZFH0AKg6Ly",
        "outputId": "1967203f-efb4-447d-c00d-a5e5d5f2dc05"
      },
      "execution_count": 11,
      "outputs": [
        {
          "output_type": "stream",
          "name": "stdout",
          "text": [
            "1 {2, 3, 4}\n"
          ]
        }
      ]
    },
    {
      "cell_type": "markdown",
      "source": [
        "* `clear():` Removes all elements from the set, making it an empty set."
      ],
      "metadata": {
        "id": "qSNAArxGg8B7"
      }
    },
    {
      "cell_type": "code",
      "source": [
        "my_set = {1, 2, 3, 4}\n",
        "my_set.clear()\n",
        "print(my_set)\n"
      ],
      "metadata": {
        "colab": {
          "base_uri": "https://localhost:8080/"
        },
        "id": "rppF_3FkhByb",
        "outputId": "26dd8a42-4591-44c4-d2e3-c0d28c48959e"
      },
      "execution_count": 13,
      "outputs": [
        {
          "output_type": "stream",
          "name": "stdout",
          "text": [
            "set()\n"
          ]
        }
      ]
    },
    {
      "cell_type": "markdown",
      "source": [
        "* `copy():` Returns a shallow copy of the set."
      ],
      "metadata": {
        "id": "k-tVumnChGNz"
      }
    },
    {
      "cell_type": "code",
      "source": [
        "original_set = {1, 2, 3}\n",
        "copied_set = original_set.copy()\n",
        "print(copied_set)\n"
      ],
      "metadata": {
        "colab": {
          "base_uri": "https://localhost:8080/"
        },
        "id": "HNzpPaaqhSKT",
        "outputId": "2935b2ab-588e-4d8c-ce1d-c1ac695607bb"
      },
      "execution_count": 14,
      "outputs": [
        {
          "output_type": "stream",
          "name": "stdout",
          "text": [
            "{1, 2, 3}\n"
          ]
        }
      ]
    },
    {
      "cell_type": "markdown",
      "source": [
        "* `union(other_set) or | operator:` Returns a new set containing all unique elements from both sets."
      ],
      "metadata": {
        "id": "Q3ScCbQzhUNz"
      }
    },
    {
      "cell_type": "code",
      "source": [
        "set1 = {1, 2, 3}\n",
        "set2 = {3, 4, 5}\n",
        "union_set = set1.union(set2)\n",
        "# or using | operator: union_set = set1 | set2\n",
        "print(union_set)\n"
      ],
      "metadata": {
        "colab": {
          "base_uri": "https://localhost:8080/"
        },
        "id": "KqLf2iGjhamj",
        "outputId": "861cc23a-19ef-4c82-da78-8f27ffa197db"
      },
      "execution_count": 15,
      "outputs": [
        {
          "output_type": "stream",
          "name": "stdout",
          "text": [
            "{1, 2, 3, 4, 5}\n"
          ]
        }
      ]
    },
    {
      "cell_type": "markdown",
      "source": [
        "* `intersection(other_set) or & operator:` Returns a new set containing elements that are common to both sets."
      ],
      "metadata": {
        "id": "ynxEvD_rhdYb"
      }
    },
    {
      "cell_type": "code",
      "source": [
        "set1 = {1, 2, 3, 4}\n",
        "set2 = {3, 4, 5, 6}\n",
        "intersection_set = set1.intersection(set2)\n",
        "# or using & operator: intersection_set = set1 & set2\n",
        "print(intersection_set)\n"
      ],
      "metadata": {
        "colab": {
          "base_uri": "https://localhost:8080/"
        },
        "id": "nVEqlsNdhjrK",
        "outputId": "e97b939b-3ece-4358-e7f0-3486cb74671d"
      },
      "execution_count": 16,
      "outputs": [
        {
          "output_type": "stream",
          "name": "stdout",
          "text": [
            "{3, 4}\n"
          ]
        }
      ]
    },
    {
      "cell_type": "markdown",
      "source": [
        "* `difference(other_set) or - operator:` Returns a new set containing elements that are present in the first set but not in the second set."
      ],
      "metadata": {
        "id": "6TJJjrCwhmCy"
      }
    },
    {
      "cell_type": "code",
      "source": [
        "set1 = {1, 2, 3, 4}\n",
        "set2 = {3, 4, 5, 6}\n",
        "difference_set = set1.difference(set2)\n",
        "# or using - operator: difference_set = set1 - set2\n",
        "print(difference_set)\n"
      ],
      "metadata": {
        "colab": {
          "base_uri": "https://localhost:8080/"
        },
        "id": "NGCPlJ6bhuDD",
        "outputId": "367c83f7-758d-4c3e-d2b6-b7ffffa43502"
      },
      "execution_count": 17,
      "outputs": [
        {
          "output_type": "stream",
          "name": "stdout",
          "text": [
            "{1, 2}\n"
          ]
        }
      ]
    },
    {
      "cell_type": "markdown",
      "source": [
        "* `symmetric_difference(other_set) or ^ operator:` Returns a new set containing elements that are present in either of the sets, but not in both."
      ],
      "metadata": {
        "id": "G2M6uKiyhvze"
      }
    },
    {
      "cell_type": "code",
      "source": [
        "set1 = {1, 2, 3, 4}\n",
        "set2 = {3, 4, 5, 6}\n",
        "symmetric_difference_set = set1.symmetric_difference(set2)\n",
        "# or using ^ operator: symmetric_difference_set = set1 ^ set2\n",
        "print(symmetric_difference_set)\n"
      ],
      "metadata": {
        "colab": {
          "base_uri": "https://localhost:8080/"
        },
        "id": "R76uDQQHh2Cb",
        "outputId": "7cb8209a-d474-49b7-a7eb-66bfc5e8bb98"
      },
      "execution_count": 18,
      "outputs": [
        {
          "output_type": "stream",
          "name": "stdout",
          "text": [
            "{1, 2, 5, 6}\n"
          ]
        }
      ]
    },
    {
      "cell_type": "code",
      "source": [
        "set1 = {1, 2}\n",
        "set2 = {1, 2, 3, 4}\n",
        "\n",
        "is_subset = set1.issubset(set2)\n",
        "is_superset = set1.issuperset(set2)\n",
        "is_disjoint = set1.isdisjoint(set2)\n",
        "\n",
        "print(f\"Is set1 a subset of set2? {is_subset}\")\n",
        "print(f\"Is set1 a superset of set2? {is_superset}\")\n",
        "print(f\"Do set1 and set2 have any elements in common? {not is_disjoint}\")\n"
      ],
      "metadata": {
        "colab": {
          "base_uri": "https://localhost:8080/"
        },
        "id": "iRxfR0hTiMbb",
        "outputId": "a198f758-681e-47b0-c175-73eda0e81a5d"
      },
      "execution_count": 19,
      "outputs": [
        {
          "output_type": "stream",
          "name": "stdout",
          "text": [
            "Is set1 a subset of set2? True\n",
            "Is set1 a superset of set2? False\n",
            "Do set1 and set2 have any elements in common? True\n"
          ]
        }
      ]
    },
    {
      "cell_type": "markdown",
      "source": [
        "# **Frozen Sets :**\n",
        "\n",
        "---\n",
        "\n",
        "Python provides another built-in type called a frozenset, which is in all respects exactly like a set, except that a frozenset is immutable."
      ],
      "metadata": {
        "id": "4KxMErInh3vS"
      }
    },
    {
      "cell_type": "code",
      "source": [
        "x = frozenset(['foo', 'bar', 'baz'])\n",
        "print(x)\n",
        "print(type(x))"
      ],
      "metadata": {
        "colab": {
          "base_uri": "https://localhost:8080/"
        },
        "id": "6Pjz6YMRipWa",
        "outputId": "57cc5c23-1209-4ee3-f19f-219518a19a2b"
      },
      "execution_count": 21,
      "outputs": [
        {
          "output_type": "stream",
          "name": "stdout",
          "text": [
            "frozenset({'foo', 'baz', 'bar'})\n",
            "<class 'frozenset'>\n"
          ]
        }
      ]
    },
    {
      "cell_type": "code",
      "source": [
        "my_frozenset = frozenset({1, 2, 3})\n",
        "\n",
        "# This will raise an error\n",
        "my_frozenset.add(4)\n"
      ],
      "metadata": {
        "colab": {
          "base_uri": "https://localhost:8080/",
          "height": 218
        },
        "id": "VkxLIsG2jHEM",
        "outputId": "8ba151a2-9a51-475b-fef1-9966a4495cb7"
      },
      "execution_count": 22,
      "outputs": [
        {
          "output_type": "error",
          "ename": "AttributeError",
          "evalue": "'frozenset' object has no attribute 'add'",
          "traceback": [
            "\u001b[0;31m---------------------------------------------------------------------------\u001b[0m",
            "\u001b[0;31mAttributeError\u001b[0m                            Traceback (most recent call last)",
            "\u001b[0;32m<ipython-input-22-8565a55487bc>\u001b[0m in \u001b[0;36m<cell line: 4>\u001b[0;34m()\u001b[0m\n\u001b[1;32m      2\u001b[0m \u001b[0;34m\u001b[0m\u001b[0m\n\u001b[1;32m      3\u001b[0m \u001b[0;31m# This will raise an error\u001b[0m\u001b[0;34m\u001b[0m\u001b[0;34m\u001b[0m\u001b[0m\n\u001b[0;32m----> 4\u001b[0;31m \u001b[0mmy_frozenset\u001b[0m\u001b[0;34m.\u001b[0m\u001b[0madd\u001b[0m\u001b[0;34m(\u001b[0m\u001b[0;36m4\u001b[0m\u001b[0;34m)\u001b[0m\u001b[0;34m\u001b[0m\u001b[0;34m\u001b[0m\u001b[0m\n\u001b[0m",
            "\u001b[0;31mAttributeError\u001b[0m: 'frozenset' object has no attribute 'add'"
          ]
        }
      ]
    }
  ]
}