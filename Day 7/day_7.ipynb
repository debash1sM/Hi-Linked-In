{
  "nbformat": 4,
  "nbformat_minor": 0,
  "metadata": {
    "colab": {
      "provenance": []
    },
    "kernelspec": {
      "name": "python3",
      "display_name": "Python 3"
    },
    "language_info": {
      "name": "python"
    }
  },
  "cells": [
    {
      "cell_type": "markdown",
      "source": [
        "# Lists\n",
        "\n",
        "---\n",
        "\n",
        "The list class is a fundamental built-in data type in Python. It has an impressive and useful set of features, allowing us to efficiently organize and manipulate heterogeneous data."
      ],
      "metadata": {
        "id": "WmTRrJpcOeG0"
      }
    },
    {
      "cell_type": "markdown",
      "source": [
        "* # Creation:"
      ],
      "metadata": {
        "id": "Bbumf1puOlqT"
      }
    },
    {
      "cell_type": "markdown",
      "source": [
        "* Creating Lists Through Literals:"
      ],
      "metadata": {
        "id": "JUP9Z6FaOm9E"
      }
    },
    {
      "cell_type": "code",
      "source": [
        "digits = [0, 1, 2, 3, 4, 5, 6, 7, 8, 9]\n",
        "\n",
        "inventory = [\n",
        "     {\"product\": \"phone\", \"price\": 1000, \"quantity\": 10},\n",
        "     {\"product\": \"laptop\", \"price\": 1500, \"quantity\": 5},\n",
        "     {\"product\": \"tablet\", \"price\": 500, \"quantity\": 20}\n",
        "     ]\n",
        "matrix = [\n",
        "    [1, 2, 3],\n",
        "    [4, 5, 6],\n",
        "    [7, 8, 9]\n",
        " ]\n",
        "\n",
        "print(digits,inventory,matrix)"
      ],
      "metadata": {
        "colab": {
          "base_uri": "https://localhost:8080/"
        },
        "id": "P-DgxO1bOx-d",
        "outputId": "8eac3309-f5bd-4447-dc85-ea1723e8f5cc"
      },
      "execution_count": 2,
      "outputs": [
        {
          "output_type": "stream",
          "name": "stdout",
          "text": [
            "[0, 1, 2, 3, 4, 5, 6, 7, 8, 9] [{'product': 'phone', 'price': 1000, 'quantity': 10}, {'product': 'laptop', 'price': 1500, 'quantity': 5}, {'product': 'tablet', 'price': 500, 'quantity': 20}] [[1, 2, 3], [4, 5, 6], [7, 8, 9]]\n"
          ]
        }
      ]
    },
    {
      "cell_type": "markdown",
      "source": [
        "* Using the `list()` Constructo: rWe can call this constructor with any iterable object, including other lists, tuples, sets, dictionaries and their components, strings, and many others"
      ],
      "metadata": {
        "id": "_THZTSrEPTeP"
      }
    },
    {
      "cell_type": "code",
      "source": [
        "print(list((0, 1, 2, 3, 4, 5, 6, 7, 8, 9)))\n",
        "\n",
        "print(list({\"circle\", \"square\", \"triangle\", \"rectangle\", \"pentagon\"}))\n",
        "\n",
        "print(list({\"name\": \"John\", \"age\": 30, \"city\": \"New York\"}.items()))\n",
        "\n",
        "print(list(\"Pythonista\"))\n",
        "\n",
        "print(list())\n"
      ],
      "metadata": {
        "colab": {
          "base_uri": "https://localhost:8080/"
        },
        "id": "PNlKPespPRzg",
        "outputId": "04407ffc-58f6-4a46-8b36-e73e2a19ca12"
      },
      "execution_count": 3,
      "outputs": [
        {
          "output_type": "stream",
          "name": "stdout",
          "text": [
            "[0, 1, 2, 3, 4, 5, 6, 7, 8, 9]\n",
            "['triangle', 'circle', 'square', 'pentagon', 'rectangle']\n",
            "[('name', 'John'), ('age', 30), ('city', 'New York')]\n",
            "['P', 'y', 't', 'h', 'o', 'n', 'i', 's', 't', 'a']\n",
            "[]\n"
          ]
        }
      ]
    },
    {
      "cell_type": "markdown",
      "source": [
        "* # Basic Properties:"
      ],
      "metadata": {
        "id": "TdTMgBixQ3Z9"
      }
    },
    {
      "cell_type": "markdown",
      "source": [
        "* **Ordered:**  They contain elements or items that are sequentially arranged according to their specific insertion order. This means that the order of the elements in a list is preserved and does not change unless we modify it. For example, if we create a list of fruits as follows:"
      ],
      "metadata": {
        "id": "A94AyOf-Q8VF"
      }
    },
    {
      "cell_type": "code",
      "source": [
        "fruits = [\"apple\", \"banana\", \"orange\", \"cherry\"]\n",
        "print(fruits)\n",
        "\n",
        "'''\n",
        "The order of the elements in the list is the same as we defined it.\n",
        "We can access the elements by their position in the list,\n",
        "such as fruits[0] for the first element, fruits[1] for the second element, and so on.\n",
        "'''"
      ],
      "metadata": {
        "colab": {
          "base_uri": "https://localhost:8080/",
          "height": 72
        },
        "id": "AzmvTx4TT54r",
        "outputId": "7f003dc5-ef3d-40f3-9534-49713fa93705"
      },
      "execution_count": 4,
      "outputs": [
        {
          "output_type": "stream",
          "name": "stdout",
          "text": [
            "['apple', 'banana', 'orange', 'cherry']\n"
          ]
        },
        {
          "output_type": "execute_result",
          "data": {
            "text/plain": [
              "'\\nThe order of the elements in the list is the same as we defined it. \\nWe can access the elements by their position in the list, \\nsuch as fruits[0] for the first element, fruits[1] for the second element, and so on.\\n'"
            ],
            "application/vnd.google.colaboratory.intrinsic+json": {
              "type": "string"
            }
          },
          "metadata": {},
          "execution_count": 4
        }
      ]
    },
    {
      "cell_type": "markdown",
      "source": [
        "* **Zero-based:** They allow you to access their elements by indices that start from zero. This means that the first element of a list has an index of 0, the second element has an index of 1, and so on. For example, in the list of fruits above, the index of “apple” is 0, the index of “banana” is 1, and so on. We can use the index operator [] to access the elements by their indices. For example, `fruits[2]` will return “orange”."
      ],
      "metadata": {
        "id": "hy9J3bSBUJ-b"
      }
    },
    {
      "cell_type": "code",
      "source": [
        "print(fruits[2])"
      ],
      "metadata": {
        "colab": {
          "base_uri": "https://localhost:8080/"
        },
        "id": "TUVv2TFzUVQC",
        "outputId": "ae820909-687e-42fa-9597-cfe432b80be2"
      },
      "execution_count": 5,
      "outputs": [
        {
          "output_type": "stream",
          "name": "stdout",
          "text": [
            "orange\n"
          ]
        }
      ]
    },
    {
      "cell_type": "markdown",
      "source": [
        "* **Mutable:** They support in-place mutations or changes to their contained elements. This means that we can modify the elements of a list without creating a new list. For example, we can change the value of an element by assigning a new value to it. For example, if we want to replace “orange” with “mango” in the list of fruits, we can do:"
      ],
      "metadata": {
        "id": "hTDF6BbmUZuB"
      }
    },
    {
      "cell_type": "code",
      "source": [
        "fruits[2] = \"mango\"\n",
        "print(fruits)\n",
        "\n",
        "\n",
        "# This will change the value of the third element in the list to “mango”.\n",
        "# We can also use methods like append(), insert(), remove(), pop(), sort(), reverse(), etc. to modify the list in various ways."
      ],
      "metadata": {
        "colab": {
          "base_uri": "https://localhost:8080/"
        },
        "id": "O8lWvjMeUj7K",
        "outputId": "98d2e860-3647-40db-c947-093f72d1cc88"
      },
      "execution_count": 7,
      "outputs": [
        {
          "output_type": "stream",
          "name": "stdout",
          "text": [
            "['apple', 'banana', 'mango', 'cherry']\n"
          ]
        }
      ]
    },
    {
      "cell_type": "markdown",
      "source": [
        "* **Heterogeneous:** They can store objects of different types. This means that a list can contain elements of any data type, such as integers, strings, floats, booleans, lists, tuples, dictionaries, etc. For example, we can create a list of mixed values as follows:"
      ],
      "metadata": {
        "id": "cmq87ukwU0EK"
      }
    },
    {
      "cell_type": "code",
      "source": [
        "mixed_list = [1, \"hello\", 3.14, True, [1, 2, 3], (\"a\", \"b\", \"c\"), {\"name\": \"Alice\", \"age\": 25}]\n",
        "print(mixed_list)\n",
        "\n",
        "# This list contains elements of different types, such as an integer, a string, a float, a boolean, a list, a tuple, and a dictionary.\n",
        "# We can access the elements by their indices as usual, such as mixed_list[0] for the first element, mixed_list[1] for the second element, and so on."
      ],
      "metadata": {
        "colab": {
          "base_uri": "https://localhost:8080/"
        },
        "id": "F1K2cTWsUqIR",
        "outputId": "b3135d8d-d5d2-4d5d-8e37-0723ff283a7c"
      },
      "execution_count": 8,
      "outputs": [
        {
          "output_type": "stream",
          "name": "stdout",
          "text": [
            "[1, 'hello', 3.14, True, [1, 2, 3], ('a', 'b', 'c'), {'name': 'Alice', 'age': 25}]\n"
          ]
        }
      ]
    },
    {
      "cell_type": "markdown",
      "source": [
        "* **Growable and dynamic:** They can grow or shrink dynamically, which means that they support the addition, insertion, and removal of elements. This means that a list can change its size according to our needs. We can add new elements to the end of the list using the `append()` method, or insert them at any position using the `insert()` method. For example, if we want to add “grape” to the end of the list of fruits, we can do:"
      ],
      "metadata": {
        "id": "6kfknjrMVNXT"
      }
    },
    {
      "cell_type": "code",
      "source": [
        "fruits.append(\"grape\")\n",
        "# This will increase the size of the list by one and add “grape” as the last element\n",
        "fruits.insert(1, \"kiwi\")\n",
        "# This will insert “kiwi” at the index 1 and shift the rest of the elements to the right.\n",
        "\n",
        "print(fruits)"
      ],
      "metadata": {
        "colab": {
          "base_uri": "https://localhost:8080/"
        },
        "id": "9dRBRlB2VVRa",
        "outputId": "cb93be7f-5942-4147-cd10-0a36a5b0e653"
      },
      "execution_count": 9,
      "outputs": [
        {
          "output_type": "stream",
          "name": "stdout",
          "text": [
            "['apple', 'kiwi', 'banana', 'mango', 'cherry', 'grape']\n"
          ]
        }
      ]
    },
    {
      "cell_type": "markdown",
      "source": [
        "* **Nestable:** They can contain other lists, so you can have lists of lists. This means that a list can have another list as its element, which can have another list as its element, and so on. This allows us to create complex data structures, such as matrices, graphs, trees, etc. For example, we can create a list of lists to represent a matrix as follows:"
      ],
      "metadata": {
        "id": "6fB7oPwbVpUq"
      }
    },
    {
      "cell_type": "code",
      "source": [
        "matrix = [[1, 2, 3], [4, 5, 6], [7, 8, 9]]\n",
        "print(matrix)\n",
        "\n",
        "#This list contains three lists as its elements, each representing a row of the matrix.\n",
        "#We can access the elements of the matrix by using nested indexing, such as matrix[0][0] for the first element, matrix[1][2] for the sixth element, and so on."
      ],
      "metadata": {
        "colab": {
          "base_uri": "https://localhost:8080/"
        },
        "id": "WX-DF_GSWLly",
        "outputId": "597b2211-6171-4ccc-97fa-07d81ae9d504"
      },
      "execution_count": 10,
      "outputs": [
        {
          "output_type": "stream",
          "name": "stdout",
          "text": [
            "[[1, 2, 3], [4, 5, 6], [7, 8, 9]]\n"
          ]
        }
      ]
    },
    {
      "cell_type": "markdown",
      "source": [
        "* **Iterable:** They support iteration, so you can traverse them using a loop or comprehension while you perform operations on each of their elements. This means that we can use a for loop or a while loop to iterate over the elements of a list and do something with them. For example, we can print the elements of the list of fruits as follows:"
      ],
      "metadata": {
        "id": "oSLHaTSZWS3S"
      }
    },
    {
      "cell_type": "code",
      "source": [
        "for fruit in fruits:\n",
        "    print(fruit)\n"
      ],
      "metadata": {
        "colab": {
          "base_uri": "https://localhost:8080/"
        },
        "id": "Gby6_lDXWaK5",
        "outputId": "617e738e-8942-4a96-c5b2-e9af2961391b"
      },
      "execution_count": 11,
      "outputs": [
        {
          "output_type": "stream",
          "name": "stdout",
          "text": [
            "apple\n",
            "kiwi\n",
            "banana\n",
            "mango\n",
            "cherry\n",
            "grape\n"
          ]
        }
      ]
    },
    {
      "cell_type": "markdown",
      "source": [
        "* Sliceable: They support slicing operations, meaning that you can extract a series of elements from them. This means that we can use the slicing operator `[:]` to get a sublist from a list. The slicing operator takes two optional parameters: the start index and the end index, separated by a colon. The start index is inclusive and the end index is exclusive. For example, if we want to get the first three elements from the list of fruits, we can do:"
      ],
      "metadata": {
        "id": "WblUgR9TWbeg"
      }
    },
    {
      "cell_type": "code",
      "source": [
        "sublist = fruits[:3]\n",
        "print(sublist)\n",
        "#This will create a new list that contains the elements from index 0 to index 2."
      ],
      "metadata": {
        "colab": {
          "base_uri": "https://localhost:8080/"
        },
        "id": "tnx9xm4hWjlB",
        "outputId": "674bf370-7867-4ee5-d016-cf720c87cb48"
      },
      "execution_count": 14,
      "outputs": [
        {
          "output_type": "stream",
          "name": "stdout",
          "text": [
            "['apple', 'kiwi', 'banana']\n"
          ]
        }
      ]
    },
    {
      "cell_type": "markdown",
      "source": [
        "* **Combinable:** They support concatenation operations, so you can combine two or more lists using the concatenation operators. This means that we can use the `+ operator` to join two lists together, or the `* operator` to repeat a list a number of times. For example, if we want to create a new list that contains the elements of the list of fruits and the list of mixed values, we can do:"
      ],
      "metadata": {
        "id": "StoUpDY4WuG6"
      }
    },
    {
      "cell_type": "code",
      "source": [
        "new_list = fruits + mixed_list\n",
        "print(new_list)\n",
        "\n",
        "\n",
        "# If we want to create a new list that contains the list of fruits three times, we can do:\n",
        "\n",
        "new_list = fruits * 3\n",
        "print(new_list)"
      ],
      "metadata": {
        "colab": {
          "base_uri": "https://localhost:8080/"
        },
        "id": "5sg51zIOW46B",
        "outputId": "07228e4d-ddf4-4945-ef17-1e9630983b2f"
      },
      "execution_count": 16,
      "outputs": [
        {
          "output_type": "stream",
          "name": "stdout",
          "text": [
            "['apple', 'kiwi', 'banana', 'mango', 'cherry', 'grape', 1, 'hello', 3.14, True, [1, 2, 3], ('a', 'b', 'c'), {'name': 'Alice', 'age': 25}]\n",
            "['apple', 'kiwi', 'banana', 'mango', 'cherry', 'grape', 'apple', 'kiwi', 'banana', 'mango', 'cherry', 'grape', 'apple', 'kiwi', 'banana', 'mango', 'cherry', 'grape']\n"
          ]
        }
      ]
    },
    {
      "cell_type": "markdown",
      "source": [
        "* **Copyable:** They allow you to make copies of their content using various techniques. This means that we can create a new list that has the same elements as an existing list, but is a different object in memory. This is useful when we want to modify a list without affecting the original list. For example, we can use the `copy()` method to make a shallow copy of a list, which copies the elements but not the objects they refer to. For example, if we have a list of lists, such as:"
      ],
      "metadata": {
        "id": "QNW5N9tLXOcK"
      }
    },
    {
      "cell_type": "code",
      "source": [
        "nested_list = [[1, 2, 3], [4, 5, 6], [7, 8, 9]]\n",
        "\n",
        "shallow_copy = nested_list.copy()\n",
        "print(shallow_copy)"
      ],
      "metadata": {
        "colab": {
          "base_uri": "https://localhost:8080/"
        },
        "id": "5ShBLRPxXSiD",
        "outputId": "922cf7b5-30cf-479a-9d91-fa3e62e2d9cf"
      },
      "execution_count": 18,
      "outputs": [
        {
          "output_type": "stream",
          "name": "stdout",
          "text": [
            "[[1, 2, 3], [4, 5, 6], [7, 8, 9]]\n"
          ]
        }
      ]
    },
    {
      "cell_type": "markdown",
      "source": [
        "* # **Indexing :**\n",
        "\n",
        "---\n",
        "\n",
        "Indexing in a list is the process of accessing an element in a list using its position in the list (its index)"
      ],
      "metadata": {
        "id": "saiSvP_QYaXR"
      }
    },
    {
      "cell_type": "markdown",
      "source": [
        "* **Positive indexing** starts from the beginning of the sequence, with the first element having an index of 0, the second element having an index of 1, and so on. For example,"
      ],
      "metadata": {
        "id": "3dgOk6-RYnfa"
      }
    },
    {
      "cell_type": "code",
      "source": [
        "fruits = [\"apple\", \"banana\", \"orange\", \"cherry\"]\n",
        "print(fruits[0])\n",
        "print(fruits[2])\n",
        "\n"
      ],
      "metadata": {
        "colab": {
          "base_uri": "https://localhost:8080/"
        },
        "id": "Pg8rMMowZHEK",
        "outputId": "447c57e5-9c7a-4564-cccc-496f8c93109e"
      },
      "execution_count": 19,
      "outputs": [
        {
          "output_type": "stream",
          "name": "stdout",
          "text": [
            "apple\n",
            "orange\n"
          ]
        }
      ]
    },
    {
      "cell_type": "markdown",
      "source": [
        "* **Negative indexing** starts from the end of the sequence, with the last element having an index of -1, the second last element having an index of -2, and so on. For example,"
      ],
      "metadata": {
        "id": "yImLiYx7ZNax"
      }
    },
    {
      "cell_type": "code",
      "source": [
        "print(fruits[-1])\n",
        "print(fruits[-3])"
      ],
      "metadata": {
        "colab": {
          "base_uri": "https://localhost:8080/"
        },
        "id": "hIoLjvVlZSgL",
        "outputId": "8d63c8a7-fa2c-4060-8e61-e2cc0078c608"
      },
      "execution_count": 20,
      "outputs": [
        {
          "output_type": "stream",
          "name": "stdout",
          "text": [
            "cherry\n",
            "banana\n"
          ]
        }
      ]
    },
    {
      "cell_type": "markdown",
      "source": [
        "* **Using both** : Also we can use both at the same time :"
      ],
      "metadata": {
        "id": "rzfXkVpeZM5R"
      }
    },
    {
      "cell_type": "code",
      "source": [
        "print(fruits[0])\n",
        "print(fruits[-4])"
      ],
      "metadata": {
        "colab": {
          "base_uri": "https://localhost:8080/"
        },
        "id": "c5mdrUF2Zkqh",
        "outputId": "d66cf34b-849b-4a3f-adff-db081c5f4d4d"
      },
      "execution_count": 22,
      "outputs": [
        {
          "output_type": "stream",
          "name": "stdout",
          "text": [
            "apple\n",
            "apple\n"
          ]
        }
      ]
    },
    {
      "cell_type": "markdown",
      "source": [
        "* **Multilevel indexing** in a list is the process of accessing an element in a nested list using its position in the outer and inner lists. A nested list is a list that contains another list as its element. For example, we can create a list of lists to represent a matrix as follows:"
      ],
      "metadata": {
        "id": "f_iR66MQZqEx"
      }
    },
    {
      "cell_type": "code",
      "source": [
        "matrix = [[1, 2, 3], [4, 5, 6], [7, 8, 9]]\n",
        "\n",
        "print(matrix[0][0])\n",
        "print(matrix[1][2])\n",
        "print(matrix[2][1])\n",
        "print(matrix[-1][-1])\n"
      ],
      "metadata": {
        "colab": {
          "base_uri": "https://localhost:8080/"
        },
        "id": "mxpxqVnUZwNR",
        "outputId": "0e55edbe-7ed5-4432-e5e6-a6ed4ef70820"
      },
      "execution_count": 23,
      "outputs": [
        {
          "output_type": "stream",
          "name": "stdout",
          "text": [
            "1\n",
            "6\n",
            "8\n",
            "9\n"
          ]
        }
      ]
    },
    {
      "cell_type": "markdown",
      "source": [
        "* # **Slicing :**\n",
        "\n",
        "---\n",
        "\n",
        "Another common requirement when working with lists is to extract a portion, or slice, of a given list. You can do this with a slicing operation, which has the following syntax:\n",
        "\n",
        "`list_object[start:stop:step]`"
      ],
      "metadata": {
        "id": "TEGyubXmaLaa"
      }
    },
    {
      "cell_type": "markdown",
      "source": [
        "* Here’s what the indices in the slicing operator mean:\n",
        "\n",
        "  * **start** specifies the index at which you want to start the slicing. The resulting slice includes the item at this index.\n",
        "  * **stop** specifies the index at which you want the slicing to stop extracting items. The resulting slice doesn’t include the item at this index.\n",
        "  * **step** provides an integer value representing how many items the slicing will skip on each step. The resulting slice won’t include the skipped items.\n",
        "\n",
        "\n",
        "\n",
        "```\n",
        "| Parameter | Default Value |\n",
        "|-----------|---------------|\n",
        "| start     | 0             |\n",
        "| stop      | End of list   |\n",
        "| step      | 1             |\n",
        "\n",
        "```\n",
        "\n",
        "\n"
      ],
      "metadata": {
        "id": "nDLDqbocbDw6"
      }
    },
    {
      "cell_type": "code",
      "source": [
        "digits = [0, 1, 2, 3, 4, 5, 6, 7, 8, 9]\n",
        "\n",
        "\n",
        "# With all parameter\n",
        "print(digits[1:8:2])\n",
        "\n",
        "# Without step\n",
        "print(digits[1:8])\n",
        "\n",
        "# Without start\n",
        "print(digits[:8:2])\n",
        "\n",
        "# Without stop\n",
        "print(digits[1::2])"
      ],
      "metadata": {
        "colab": {
          "base_uri": "https://localhost:8080/"
        },
        "id": "Pa_rwhdVbkpi",
        "outputId": "e7c4649e-2b67-4cc2-f102-5938430393ee"
      },
      "execution_count": 27,
      "outputs": [
        {
          "output_type": "stream",
          "name": "stdout",
          "text": [
            "[1, 3, 5, 7]\n",
            "[1, 2, 3, 4, 5, 6, 7]\n",
            "[0, 2, 4, 6]\n",
            "[1, 3, 5, 7, 9]\n"
          ]
        }
      ]
    },
    {
      "cell_type": "markdown",
      "source": [
        "* We can use slixing to shallow copy lists."
      ],
      "metadata": {
        "id": "ftE20rSicq9i"
      }
    },
    {
      "cell_type": "code",
      "source": [
        "update1 = digits[::]\n",
        "update2 = digits[:]\n",
        "\n",
        "print(update1)\n",
        "print(update2)"
      ],
      "metadata": {
        "colab": {
          "base_uri": "https://localhost:8080/"
        },
        "id": "4jfiyNtgcaaK",
        "outputId": "2422a401-63de-4650-81f0-9b3197d02db5"
      },
      "execution_count": 32,
      "outputs": [
        {
          "output_type": "stream",
          "name": "stdout",
          "text": [
            "[0, 1, 2, 3, 4, 5, 6, 7, 8, 9]\n",
            "[0, 1, 2, 3, 4, 5, 6, 7, 8, 9]\n"
          ]
        }
      ]
    },
    {
      "cell_type": "markdown",
      "source": [
        "  * We can also use negative indexing here :"
      ],
      "metadata": {
        "id": "mFn-Xjehbw7p"
      }
    },
    {
      "cell_type": "code",
      "source": [
        "print(digits[-5:-1])"
      ],
      "metadata": {
        "colab": {
          "base_uri": "https://localhost:8080/"
        },
        "id": "hKo3_L4FcM0K",
        "outputId": "86b956af-685a-4575-918e-bed7db263a5f"
      },
      "execution_count": 28,
      "outputs": [
        {
          "output_type": "stream",
          "name": "stdout",
          "text": [
            "[5, 6, 7, 8]\n"
          ]
        }
      ]
    },
    {
      "cell_type": "markdown",
      "source": [
        "* **slice()** : It is exactly like normal slicing operator. It takes three positional arguments `slice(start,stop,step)`."
      ],
      "metadata": {
        "id": "3mxw_u-ddD0y"
      }
    },
    {
      "cell_type": "code",
      "source": [
        "print(digits[1:8:2])\n",
        "print(digits[slice(1,8,2)])"
      ],
      "metadata": {
        "colab": {
          "base_uri": "https://localhost:8080/"
        },
        "id": "1qgRioZkdSuy",
        "outputId": "7af8c6db-599a-4a76-f449-f59b1e23353c"
      },
      "execution_count": 35,
      "outputs": [
        {
          "output_type": "stream",
          "name": "stdout",
          "text": [
            "[1, 3, 5, 7]\n",
            "[1, 3, 5, 7]\n"
          ]
        }
      ]
    }
  ]
}