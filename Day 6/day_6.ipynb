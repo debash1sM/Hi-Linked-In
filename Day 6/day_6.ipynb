{
  "nbformat": 4,
  "nbformat_minor": 0,
  "metadata": {
    "colab": {
      "provenance": []
    },
    "kernelspec": {
      "name": "python3",
      "display_name": "Python 3"
    },
    "language_info": {
      "name": "python"
    }
  },
  "cells": [
    {
      "cell_type": "markdown",
      "source": [
        "# **Dictionary :**\n",
        "\n",
        "---\n",
        "\n"
      ],
      "metadata": {
        "id": "ZqZVRrdoLzc0"
      }
    },
    {
      "cell_type": "markdown",
      "source": [
        "* **Def :** Dictionaries are Python’s implementation of a data structure that is more generally known as an associative array. A dictionary consists of a collection of key-value pairs. Each key-value pair maps the key to its associated value.\n"
      ],
      "metadata": {
        "id": "lNCRaMUhL6-r"
      }
    },
    {
      "cell_type": "markdown",
      "source": [
        "* # **Defining Dictionary :**\n",
        "\n",
        "There are multiple ways to define dictionary.But ther are some clause too.\n",
        "  *    A given key can appear in a dictionary only once. Duplicate keys are not allowed. A dictionary maps each key to a corresponding value, so it doesn’t make sense to map a particular key more than once.\n",
        "  *    keys from dictionary can be declared only by the immutable data types.  \n",
        "\n"
      ],
      "metadata": {
        "id": "LkfP-zGmM71j"
      }
    },
    {
      "cell_type": "code",
      "source": [
        "# Duplicate Keys:\n",
        "\n",
        "# Example with Duplicate Keys (Exception)\n",
        "duplicate_keys_dict = {'name': 'John', 'age': 25, 'name': 'Doe'}\n",
        "\n",
        "print(duplicate_keys_dict)\n",
        "\n",
        "# Notice :: 'name': 'John' is lost as 'name': 'Doe' has over ridden it"
      ],
      "metadata": {
        "colab": {
          "base_uri": "https://localhost:8080/"
        },
        "id": "apmrYquHOQMd",
        "outputId": "5e1e6175-bf4b-4c29-d0d3-1522a1356a20"
      },
      "execution_count": 3,
      "outputs": [
        {
          "output_type": "stream",
          "name": "stdout",
          "text": [
            "{'name': 'Doe', 'age': 25}\n"
          ]
        }
      ]
    },
    {
      "cell_type": "code",
      "source": [
        "# Example with Mutable Key (Exception)\n",
        "mutable_key_dict = {['name']: 'John', 'age': 25, 'city': 'New York'}\n",
        "\n",
        "\n",
        "# ['name'] this causes error as it is list and it is a mutable data type."
      ],
      "metadata": {
        "colab": {
          "base_uri": "https://localhost:8080/",
          "height": 200
        },
        "id": "xFG4pGNoO7hc",
        "outputId": "3cc7440f-86e0-4215-cfda-e6330c9e34af"
      },
      "execution_count": 4,
      "outputs": [
        {
          "output_type": "error",
          "ename": "TypeError",
          "evalue": "unhashable type: 'list'",
          "traceback": [
            "\u001b[0;31m---------------------------------------------------------------------------\u001b[0m",
            "\u001b[0;31mTypeError\u001b[0m                                 Traceback (most recent call last)",
            "\u001b[0;32m<ipython-input-4-0512282188f5>\u001b[0m in \u001b[0;36m<cell line: 2>\u001b[0;34m()\u001b[0m\n\u001b[1;32m      1\u001b[0m \u001b[0;31m# Example with Mutable Key (Exception)\u001b[0m\u001b[0;34m\u001b[0m\u001b[0;34m\u001b[0m\u001b[0m\n\u001b[0;32m----> 2\u001b[0;31m \u001b[0mmutable_key_dict\u001b[0m \u001b[0;34m=\u001b[0m \u001b[0;34m{\u001b[0m\u001b[0;34m[\u001b[0m\u001b[0;34m'name'\u001b[0m\u001b[0;34m]\u001b[0m\u001b[0;34m:\u001b[0m \u001b[0;34m'John'\u001b[0m\u001b[0;34m,\u001b[0m \u001b[0;34m'age'\u001b[0m\u001b[0;34m:\u001b[0m \u001b[0;36m25\u001b[0m\u001b[0;34m,\u001b[0m \u001b[0;34m'city'\u001b[0m\u001b[0;34m:\u001b[0m \u001b[0;34m'New York'\u001b[0m\u001b[0;34m}\u001b[0m\u001b[0;34m\u001b[0m\u001b[0;34m\u001b[0m\u001b[0m\n\u001b[0m",
            "\u001b[0;31mTypeError\u001b[0m: unhashable type: 'list'"
          ]
        }
      ]
    },
    {
      "cell_type": "markdown",
      "source": [
        "* **Method 1: Using Curly Braces {} and Colons**:"
      ],
      "metadata": {
        "id": "4emucORwPM3f"
      }
    },
    {
      "cell_type": "code",
      "source": [
        "# Method 1: Using curly braces and colons\n",
        "my_dict = {'name': 'John', 'age': 25, 'city': 'New York'}\n",
        "print(my_dict)\n"
      ],
      "metadata": {
        "colab": {
          "base_uri": "https://localhost:8080/"
        },
        "id": "s4dE6r_DPf08",
        "outputId": "a32781e9-de1e-4dfc-fc03-ed808e76bf02"
      },
      "execution_count": 9,
      "outputs": [
        {
          "output_type": "stream",
          "name": "stdout",
          "text": [
            "{'name': 'John', 'age': 25, 'city': 'New York'}\n"
          ]
        }
      ]
    },
    {
      "cell_type": "markdown",
      "source": [
        "* **Method 2: Using the dict() Constructor** : We can also construct a dictionary with the built-in `dict()` function. The argument to `dict()` should be a sequence of key-value pairs. A list of tuples works well for this:"
      ],
      "metadata": {
        "id": "jsn7hnhwPjoT"
      }
    },
    {
      "cell_type": "code",
      "source": [
        "my_dict = dict(name='John', age=25, city='New York')\n",
        "print(my_dict)\n",
        "\"\"\"\n",
        "  Internally, Python converts these keyword arguments into a sequence of tuples, where each tuple represents a key-value pair.\n",
        "  In this example, it is equivalent to constructing a tuple as ('name', 'John'), ('age', 25), ('city', 'New York').\n",
        "\"\"\"\n"
      ],
      "metadata": {
        "colab": {
          "base_uri": "https://localhost:8080/",
          "height": 72
        },
        "id": "uPOK_4YYQXTV",
        "outputId": "788bc494-dbb0-4c44-d58c-abd8f11ef937"
      },
      "execution_count": 8,
      "outputs": [
        {
          "output_type": "stream",
          "name": "stdout",
          "text": [
            "{'name': 'John', 'age': 25, 'city': 'New York'}\n"
          ]
        },
        {
          "output_type": "execute_result",
          "data": {
            "text/plain": [
              "\"\\n  Internally, Python converts these keyword arguments into a sequence of tuples, where each tuple represents a key-value pair.\\n  In this example, it is equivalent to constructing a tuple as ('name', 'John'), ('age', 25), ('city', 'New York').\\n\""
            ],
            "application/vnd.google.colaboratory.intrinsic+json": {
              "type": "string"
            }
          },
          "metadata": {},
          "execution_count": 8
        }
      ]
    },
    {
      "cell_type": "code",
      "source": [
        "# Method 3: Using a list of tuples\n",
        "my_dict = dict([('name', 'John'), ('age', 25), ('city', 'New York')])\n",
        "print(my_dict)\n"
      ],
      "metadata": {
        "colab": {
          "base_uri": "https://localhost:8080/"
        },
        "id": "2SVjh4Y0Q0mC",
        "outputId": "9129c93b-dbd8-4a31-99bc-7f810f9e2536"
      },
      "execution_count": 7,
      "outputs": [
        {
          "output_type": "stream",
          "name": "stdout",
          "text": [
            "{'name': 'John', 'age': 25, 'city': 'New York'}\n"
          ]
        }
      ]
    },
    {
      "cell_type": "markdown",
      "source": [
        "* **Method 4: Using the zip() Function** :"
      ],
      "metadata": {
        "id": "nQpymVMyQy87"
      }
    },
    {
      "cell_type": "code",
      "source": [
        "# Method 4: Using the zip() function\n",
        "keys = ['name', 'age', 'city']\n",
        "values = ['John', 25, 'New York']\n",
        "my_dict = dict(zip(keys, values))\n",
        "print(my_dict)"
      ],
      "metadata": {
        "colab": {
          "base_uri": "https://localhost:8080/"
        },
        "id": "JdFedgovRVj0",
        "outputId": "c29c91d1-65b5-4589-933a-794685f9d307"
      },
      "execution_count": 10,
      "outputs": [
        {
          "output_type": "stream",
          "name": "stdout",
          "text": [
            "{'name': 'John', 'age': 25, 'city': 'New York'}\n"
          ]
        }
      ]
    },
    {
      "cell_type": "markdown",
      "source": [
        "* # **Basic Properties :**"
      ],
      "metadata": {
        "id": "f95euo_aRfHb"
      }
    },
    {
      "cell_type": "markdown",
      "source": [
        "* **Mutable:**\n",
        "Dictionaries in Python are mutable, meaning we can modify their contents (add, update, or remove key-value pairs) after they have been created."
      ],
      "metadata": {
        "id": "A9Xi54QKSArj"
      }
    },
    {
      "cell_type": "code",
      "source": [
        "my_dict = {'name': 'John', 'age': 25, 'city': 'New York'}\n",
        "\n",
        "# Modifying the dictionary\n",
        "my_dict['age'] = 26\n",
        "print(\"Modified Dictionary:\", my_dict)\n"
      ],
      "metadata": {
        "colab": {
          "base_uri": "https://localhost:8080/"
        },
        "id": "ONJWZL58SJ5M",
        "outputId": "10830ff6-0e52-4bd8-cce5-7d285bcefd2d"
      },
      "execution_count": 12,
      "outputs": [
        {
          "output_type": "stream",
          "name": "stdout",
          "text": [
            "Modified Dictionary: {'name': 'John', 'age': 26, 'city': 'New York'}\n"
          ]
        }
      ]
    },
    {
      "cell_type": "markdown",
      "source": [
        "* **Ordered:**\n",
        "Items in a dictionary are stored in a specific order."
      ],
      "metadata": {
        "id": "mAUCZCYxSOH0"
      }
    },
    {
      "cell_type": "code",
      "source": [
        "my_ordered_dict = {'a': 1, 'b': 2, 'c': 3}\n",
        "\n",
        "for key, value in my_ordered_dict.items():\n",
        "    print(key, value)\n",
        "\n",
        "\"\"\"\n",
        "  Dictionary became ordered only after python 3.7\n",
        "\"\"\"\n"
      ],
      "metadata": {
        "colab": {
          "base_uri": "https://localhost:8080/"
        },
        "id": "KPiijfV2Sdgs",
        "outputId": "e4ac0266-9fb6-4d4a-c86a-154417cb75c6"
      },
      "execution_count": 13,
      "outputs": [
        {
          "output_type": "stream",
          "name": "stdout",
          "text": [
            "a 1\n",
            "b 2\n",
            "c 3\n"
          ]
        }
      ]
    },
    {
      "cell_type": "markdown",
      "source": [
        "* **Dynamic Size:**\n",
        "Dictionaries in Python can dynamically grow or shrink in size as key-value pairs are added or removed. This dynamic nature allows for flexibility in managing data within the dictionary."
      ],
      "metadata": {
        "id": "qUrUp7V4SwiT"
      }
    },
    {
      "cell_type": "code",
      "source": [
        "my_dict = {}\n",
        "\n",
        "# Adding key-value pairs dynamically\n",
        "my_dict['name'] = 'John'\n",
        "my_dict['age'] = 25\n",
        "my_dict['city'] = 'New York'\n",
        "\n",
        "print(\"Updated Dictionary:\", my_dict)\n"
      ],
      "metadata": {
        "colab": {
          "base_uri": "https://localhost:8080/"
        },
        "id": "Eqep3_meS8sn",
        "outputId": "26c9f2ad-255e-4c9e-b848-b43cfb72e242"
      },
      "execution_count": 14,
      "outputs": [
        {
          "output_type": "stream",
          "name": "stdout",
          "text": [
            "Updated Dictionary: {'name': 'John', 'age': 25, 'city': 'New York'}\n"
          ]
        }
      ]
    },
    {
      "cell_type": "markdown",
      "source": [
        "* # **Operators :**\n"
      ],
      "metadata": {
        "id": "rkQt2rgtTrkU"
      }
    },
    {
      "cell_type": "markdown",
      "source": [
        "* **Membership Operators (`in` and `not in`):**\n",
        "These operators are used to test whether a key is present in the dictionary or not."
      ],
      "metadata": {
        "id": "BQ88jb0nT18h"
      }
    },
    {
      "cell_type": "code",
      "source": [
        "my_dict = {'name': 'John', 'age': 25, 'city': 'New York'}\n",
        "\n",
        "# Membership check\n",
        "print('name' in my_dict)\n",
        "print('gender' not in my_dict)\n"
      ],
      "metadata": {
        "colab": {
          "base_uri": "https://localhost:8080/"
        },
        "id": "wfydyQhOT6pq",
        "outputId": "865c7255-86c6-4ca7-e32b-d8108f19f903"
      },
      "execution_count": 15,
      "outputs": [
        {
          "output_type": "stream",
          "name": "stdout",
          "text": [
            "True\n",
            "True\n"
          ]
        }
      ]
    },
    {
      "cell_type": "markdown",
      "source": [
        "* **Comparison Operators (`==`, `!=`):**\n",
        "These operators are used for comparing dictionaries."
      ],
      "metadata": {
        "id": "g_z9ZMBHUC3q"
      }
    },
    {
      "cell_type": "code",
      "source": [
        "dict1 = {'a': 1, 'b': 2}\n",
        "dict2 = {'b': 2, 'a': 1}\n",
        "\n",
        "# Equality check\n",
        "print(dict1 == dict2)\n",
        "print(dict1 != dict2)\n"
      ],
      "metadata": {
        "colab": {
          "base_uri": "https://localhost:8080/"
        },
        "id": "OkbqS8QqUN9c",
        "outputId": "9a23ef4d-8514-4707-c8e9-686e4e0b5dfb"
      },
      "execution_count": 17,
      "outputs": [
        {
          "output_type": "stream",
          "name": "stdout",
          "text": [
            "True\n",
            "False\n"
          ]
        }
      ]
    },
    {
      "cell_type": "markdown",
      "source": [
        "* # **Built-in Functions for Dictionary:**"
      ],
      "metadata": {
        "id": "hVgTEyKSU9ny"
      }
    },
    {
      "cell_type": "markdown",
      "source": [
        "* `len():`\n",
        "Returns the number of items in the dictionary."
      ],
      "metadata": {
        "id": "n0cDhL3CVCth"
      }
    },
    {
      "cell_type": "code",
      "source": [
        "my_dict = {'name': 'John', 'age': 25, 'city': 'New York'}\n",
        "\n",
        "# Length of the dictionary\n",
        "print(len(my_dict))\n"
      ],
      "metadata": {
        "colab": {
          "base_uri": "https://localhost:8080/"
        },
        "id": "PNSozZo5VMBV",
        "outputId": "53007023-0cb3-4f18-9bde-ebc2859df90a"
      },
      "execution_count": 18,
      "outputs": [
        {
          "output_type": "stream",
          "name": "stdout",
          "text": [
            "3\n"
          ]
        }
      ]
    },
    {
      "cell_type": "markdown",
      "source": [
        "* `keys()`,` values()`, and `items()`:\n",
        "These methods return views of the dictionary's keys, values, and key-value pairs, respectively."
      ],
      "metadata": {
        "id": "q-KeXW8kVR5U"
      }
    },
    {
      "cell_type": "code",
      "source": [
        "my_dict = {'name': 'John', 'age': 25, 'city': 'New York'}\n",
        "\n",
        "keys = my_dict.keys()\n",
        "values = my_dict.values()\n",
        "items = my_dict.items()\n",
        "\n",
        "print(\"Keys:\", keys)\n",
        "print(\"Values:\", values)\n",
        "print(\"Items:\", items)\n"
      ],
      "metadata": {
        "colab": {
          "base_uri": "https://localhost:8080/"
        },
        "id": "iWNWwHmsVWp1",
        "outputId": "265ab888-9ad7-4e98-86f8-336ede229d88"
      },
      "execution_count": 19,
      "outputs": [
        {
          "output_type": "stream",
          "name": "stdout",
          "text": [
            "Keys: dict_keys(['name', 'age', 'city'])\n",
            "Values: dict_values(['John', 25, 'New York'])\n",
            "Items: dict_items([('name', 'John'), ('age', 25), ('city', 'New York')])\n"
          ]
        }
      ]
    },
    {
      "cell_type": "markdown",
      "source": [
        "* `get():`\n",
        "Returns the value associated with a specified key. If the key is not found, it returns a default value (default is None)."
      ],
      "metadata": {
        "id": "Qa8SsinuVcJ0"
      }
    },
    {
      "cell_type": "code",
      "source": [
        "my_dict = {'name': 'John', 'age': 25, 'city': 'New York'}\n",
        "\n",
        "# Getting values with get()\n",
        "age = my_dict.get('age')\n",
        "gender = my_dict.get('gender', 'Male')\n",
        "\n",
        "print(\"Age:\", age)\n",
        "print(\"Gender:\", gender)\n"
      ],
      "metadata": {
        "colab": {
          "base_uri": "https://localhost:8080/"
        },
        "id": "nY9tUTzQVhdj",
        "outputId": "ddf647ab-efa5-43fe-fa5b-e3458fffa6c4"
      },
      "execution_count": 20,
      "outputs": [
        {
          "output_type": "stream",
          "name": "stdout",
          "text": [
            "Age: 25\n",
            "Gender: Male\n"
          ]
        }
      ]
    },
    {
      "cell_type": "markdown",
      "source": [
        "* `pop():`\n",
        "Removes the item with the specified key and returns its value. Raises a KeyError if the key is not found."
      ],
      "metadata": {
        "id": "HkdKNbhYVlA0"
      }
    },
    {
      "cell_type": "code",
      "source": [
        "my_dict = {'name': 'John', 'age': 25, 'city': 'New York'}\n",
        "\n",
        "# Removing and getting the value for 'age'\n",
        "age_value = my_dict.pop('age')\n",
        "\n",
        "print(\"Removed Age Value:\", age_value)\n"
      ],
      "metadata": {
        "colab": {
          "base_uri": "https://localhost:8080/"
        },
        "id": "nX6RNi_YVpyG",
        "outputId": "61842549-8c6d-4b44-b2a8-f1ae62047ead"
      },
      "execution_count": 21,
      "outputs": [
        {
          "output_type": "stream",
          "name": "stdout",
          "text": [
            "Removed Age Value: 25\n"
          ]
        }
      ]
    },
    {
      "cell_type": "markdown",
      "source": [
        "* # **Basic Dictionary Access:**"
      ],
      "metadata": {
        "id": "_t7DSaSsWKIr"
      }
    },
    {
      "cell_type": "markdown",
      "source": [
        "* **Accessing Values by Key:**"
      ],
      "metadata": {
        "id": "U6oWiaD4WNWa"
      }
    },
    {
      "cell_type": "code",
      "source": [
        "my_dict = {'name': 'John', 'age': 25, 'city': 'New York'}\n",
        "\n",
        "# Accessing values by key\n",
        "name = my_dict['name']\n",
        "age = my_dict['age']\n",
        "print(\"Name:\", name)  # Output: Name: John\n",
        "print(\"Age:\", age)    # Output: Age: 25\n"
      ],
      "metadata": {
        "colab": {
          "base_uri": "https://localhost:8080/"
        },
        "id": "tbvqUQ7MWT0m",
        "outputId": "85b0bef3-69e4-4474-afde-e08eb8a7f5fa"
      },
      "execution_count": 22,
      "outputs": [
        {
          "output_type": "stream",
          "name": "stdout",
          "text": [
            "Name: John\n",
            "Age: 25\n"
          ]
        }
      ]
    },
    {
      "cell_type": "markdown",
      "source": [
        "* **Using items() Method:**"
      ],
      "metadata": {
        "id": "5_B4v6dNWiP7"
      }
    },
    {
      "cell_type": "code",
      "source": [
        "# Iterating over key-value pairs\n",
        "for key, value in my_dict.items():\n",
        "    print(f\"Key: {key}, Value: {value}\")\n"
      ],
      "metadata": {
        "colab": {
          "base_uri": "https://localhost:8080/"
        },
        "id": "QPaxE_MQWmEs",
        "outputId": "e9ab144a-7165-41fe-e4f8-fe669e8e1443"
      },
      "execution_count": 23,
      "outputs": [
        {
          "output_type": "stream",
          "name": "stdout",
          "text": [
            "Key: name, Value: John\n",
            "Key: age, Value: 25\n",
            "Key: city, Value: New York\n"
          ]
        }
      ]
    },
    {
      "cell_type": "markdown",
      "source": [
        "* **Using keys() Method:**"
      ],
      "metadata": {
        "id": "FBcAOHyHWur7"
      }
    },
    {
      "cell_type": "code",
      "source": [
        "# Iterating over keys\n",
        "for key in my_dict.keys():\n",
        "    print(f\"Key: {key}\")\n"
      ],
      "metadata": {
        "colab": {
          "base_uri": "https://localhost:8080/"
        },
        "id": "Q14ylHvZWwvE",
        "outputId": "f4bd6619-cefd-4642-c6ae-f7b1360adf4e"
      },
      "execution_count": 24,
      "outputs": [
        {
          "output_type": "stream",
          "name": "stdout",
          "text": [
            "Key: name\n",
            "Key: age\n",
            "Key: city\n"
          ]
        }
      ]
    },
    {
      "cell_type": "markdown",
      "source": [
        "* **Using values() Method:**"
      ],
      "metadata": {
        "id": "YvPFi1Q7W3bE"
      }
    },
    {
      "cell_type": "code",
      "source": [
        "# Iterating over values\n",
        "for value in my_dict.values():\n",
        "    print(f\"Value: {value}\")\n"
      ],
      "metadata": {
        "id": "NqtxcdOsW5v8",
        "outputId": "624e4b36-b44f-4d82-f85d-bb0280c0ec7b",
        "colab": {
          "base_uri": "https://localhost:8080/"
        }
      },
      "execution_count": 25,
      "outputs": [
        {
          "output_type": "stream",
          "name": "stdout",
          "text": [
            "Value: John\n",
            "Value: 25\n",
            "Value: New York\n"
          ]
        }
      ]
    }
  ]
}